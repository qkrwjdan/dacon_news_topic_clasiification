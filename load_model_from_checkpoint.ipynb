{
 "cells": [
  {
   "cell_type": "code",
   "execution_count": 1,
   "id": "7d8ac069",
   "metadata": {},
   "outputs": [],
   "source": [
    "import random\n",
    "import logging\n",
    "from IPython.display import display, HTML\n",
    "import os \n",
    "\n",
    "import numpy as np\n",
    "import pandas as pd\n",
    "import datasets\n",
    "from datasets import load_dataset, load_metric, ClassLabel, Sequence\n",
    "from transformers import AutoTokenizer, AutoModelForSequenceClassification, TrainingArguments, Trainer\n",
    "\n",
    "from sklearn.model_selection import train_test_split\n",
    "\n",
    "import torch\n",
    "from torch import nn\n",
    "import torch.nn.functional as F\n",
    "import torch.optim as optim\n",
    "from torch.utils.data import Dataset, DataLoader"
   ]
  },
  {
   "cell_type": "code",
   "execution_count": 2,
   "id": "0e2b1f7b",
   "metadata": {},
   "outputs": [],
   "source": [
    "def seed_everything(seed: int = 17):\n",
    "    random.seed(seed)\n",
    "    np.random.seed(seed)\n",
    "    os.environ[\"PYTHONHASHSEED\"] = str(seed)\n",
    "    torch.manual_seed(seed)\n",
    "    torch.cuda.manual_seed(seed)  # type: ignore\n",
    "    torch.backends.cudnn.deterministic = True  # type: ignore\n",
    "    torch.backends.cudnn.benchmark = True  # type: ignore\n",
    "    \n",
    "seed_everything(17)"
   ]
  },
  {
   "cell_type": "code",
   "execution_count": 3,
   "id": "17c128ce",
   "metadata": {},
   "outputs": [],
   "source": [
    "model_checkpoint = \"test-nli/checkpoint-1142\"\n",
    "batch_size = 32\n",
    "task = \"nli\"\n",
    "MODEL_P = \"models/klue-bert-base-augmented.pth\"\n",
    "RANDOM_SEED = 17\n",
    "num_labels = 7\n"
   ]
  },
  {
   "cell_type": "code",
   "execution_count": 4,
   "id": "cc3a879c",
   "metadata": {},
   "outputs": [],
   "source": [
    "models = []\n",
    "toeknizers = []"
   ]
  },
  {
   "cell_type": "code",
   "execution_count": 5,
   "id": "295edae6",
   "metadata": {},
   "outputs": [],
   "source": [
    "checkpoints = [\"test-nli/checkpoint-1142\",\"test-nli/checkpoint-571\",\"test-nli/checkpoint-11415\",\"test-nli/checkpoint-571\",\"test-nli/checkpoint-3426\"]"
   ]
  },
  {
   "cell_type": "code",
   "execution_count": 6,
   "id": "d38f95f2",
   "metadata": {},
   "outputs": [],
   "source": [
    "# tokenizer = AutoTokenizer.from_pretrained(model_checkpoint, use_fast=True)"
   ]
  },
  {
   "cell_type": "code",
   "execution_count": 7,
   "id": "8c9e3dc0",
   "metadata": {},
   "outputs": [],
   "source": [
    "# tokenizer"
   ]
  },
  {
   "cell_type": "code",
   "execution_count": 8,
   "id": "c5bb3e49",
   "metadata": {},
   "outputs": [],
   "source": [
    "class BERTDataset(Dataset):\n",
    "    def __init__(self, dataset, sent_key, label_key, bert_tokenizer):\n",
    "        \n",
    "        self.sentences = [ bert_tokenizer(i,truncation=True,return_token_type_ids=False) for i in dataset[sent_key] ]\n",
    "        \n",
    "        if not label_key == None:\n",
    "            self.mode = \"train\"\n",
    "        else:\n",
    "            self.mode = \"test\"\n",
    "            \n",
    "        if self.mode == \"train\":\n",
    "            self.labels = [np.int64(i) for i in dataset[label_key]]\n",
    "        else:\n",
    "            self.labels = [np.int64(0) for i in dataset[sent_key]]\n",
    "\n",
    "    def __getitem__(self, i):\n",
    "        if self.mode == \"train\":\n",
    "            self.sentences[i][\"label\"] = self.labels[i]\n",
    "            return self.sentences[i]\n",
    "#             return ( self.sentences[i] , self.labels[i] )\n",
    "        else:\n",
    "            return self.sentences[i]\n",
    "\n",
    "    def __len__(self):\n",
    "        return (len(self.labels))"
   ]
  },
  {
   "cell_type": "code",
   "execution_count": 9,
   "id": "f19c0ea4",
   "metadata": {},
   "outputs": [],
   "source": [
    "# model = AutoModelForSequenceClassification.from_pretrained(model_checkpoint, num_labels=num_labels)"
   ]
  },
  {
   "cell_type": "code",
   "execution_count": 10,
   "id": "2726133a",
   "metadata": {},
   "outputs": [],
   "source": [
    "dataset = pd.read_csv(\"data/train_data.csv\",index_col=False)\n",
    "test = pd.read_csv(\"data/test_data.csv\",index_col=False)"
   ]
  },
  {
   "cell_type": "code",
   "execution_count": 11,
   "id": "e2eea4e1",
   "metadata": {},
   "outputs": [],
   "source": [
    "metric = load_metric(\"glue\", \"qnli\")"
   ]
  },
  {
   "cell_type": "code",
   "execution_count": 12,
   "id": "7e3273f3",
   "metadata": {},
   "outputs": [],
   "source": [
    "def compute_metrics(eval_pred):\n",
    "    predictions, labels = eval_pred\n",
    "    predictions = np.argmax(predictions, axis=1)\n",
    "    return metric.compute(predictions=predictions, references=labels)"
   ]
  },
  {
   "cell_type": "code",
   "execution_count": 13,
   "id": "7a516c9e",
   "metadata": {},
   "outputs": [],
   "source": [
    "metric_name = \"accuracy\"\n",
    "\n",
    "args = TrainingArguments(\n",
    "    \"test-nli\",\n",
    "    evaluation_strategy=\"epoch\",\n",
    "    learning_rate=2e-5,\n",
    "    per_device_train_batch_size=batch_size,\n",
    "    per_device_eval_batch_size=batch_size,\n",
    "    num_train_epochs=5,\n",
    "    weight_decay=0.01,\n",
    "    load_best_model_at_end=True,\n",
    "    metric_for_best_model=metric_name,\n",
    ")"
   ]
  },
  {
   "cell_type": "code",
   "execution_count": 26,
   "id": "98fced9f",
   "metadata": {},
   "outputs": [],
   "source": [
    "from sklearn.model_selection import StratifiedKFold\n",
    "skf = StratifiedKFold(n_splits=5)\n",
    "total_pred = np.zeros((9131,7),dtype=np.float64)\n",
    "result = []"
   ]
  },
  {
   "cell_type": "code",
   "execution_count": 28,
   "id": "ec0f6c45",
   "metadata": {},
   "outputs": [
    {
     "data": {
      "text/plain": [
       "(9131, 7)"
      ]
     },
     "execution_count": 28,
     "metadata": {},
     "output_type": "execute_result"
    }
   ],
   "source": [
    "total_pred.shape"
   ]
  },
  {
   "cell_type": "code",
   "execution_count": 29,
   "id": "d5bbeb9f",
   "metadata": {
    "scrolled": true
   },
   "outputs": [
    {
     "name": "stderr",
     "output_type": "stream",
     "text": [
      "Didn't find file test-nli/checkpoint-1142\\added_tokens.json. We won't load it.\n",
      "loading file test-nli/checkpoint-1142\\vocab.txt\n",
      "loading file test-nli/checkpoint-1142\\tokenizer.json\n",
      "loading file None\n",
      "loading file test-nli/checkpoint-1142\\special_tokens_map.json\n",
      "loading file test-nli/checkpoint-1142\\tokenizer_config.json\n",
      "loading configuration file test-nli/checkpoint-1142\\config.json\n",
      "Model config BertConfig {\n",
      "  \"_name_or_path\": \"klue/bert-base\",\n",
      "  \"architectures\": [\n",
      "    \"BertForSequenceClassification\"\n",
      "  ],\n",
      "  \"attention_probs_dropout_prob\": 0.1,\n",
      "  \"gradient_checkpointing\": false,\n",
      "  \"hidden_act\": \"gelu\",\n",
      "  \"hidden_dropout_prob\": 0.1,\n",
      "  \"hidden_size\": 768,\n",
      "  \"id2label\": {\n",
      "    \"0\": \"LABEL_0\",\n",
      "    \"1\": \"LABEL_1\",\n",
      "    \"2\": \"LABEL_2\",\n",
      "    \"3\": \"LABEL_3\",\n",
      "    \"4\": \"LABEL_4\",\n",
      "    \"5\": \"LABEL_5\",\n",
      "    \"6\": \"LABEL_6\"\n",
      "  },\n",
      "  \"initializer_range\": 0.02,\n",
      "  \"intermediate_size\": 3072,\n",
      "  \"label2id\": {\n",
      "    \"LABEL_0\": 0,\n",
      "    \"LABEL_1\": 1,\n",
      "    \"LABEL_2\": 2,\n",
      "    \"LABEL_3\": 3,\n",
      "    \"LABEL_4\": 4,\n",
      "    \"LABEL_5\": 5,\n",
      "    \"LABEL_6\": 6\n",
      "  },\n",
      "  \"layer_norm_eps\": 1e-12,\n",
      "  \"max_position_embeddings\": 512,\n",
      "  \"model_type\": \"bert\",\n",
      "  \"num_attention_heads\": 12,\n",
      "  \"num_hidden_layers\": 12,\n",
      "  \"pad_token_id\": 0,\n",
      "  \"position_embedding_type\": \"absolute\",\n",
      "  \"problem_type\": \"single_label_classification\",\n",
      "  \"transformers_version\": \"4.8.2\",\n",
      "  \"type_vocab_size\": 2,\n",
      "  \"use_cache\": true,\n",
      "  \"vocab_size\": 32000\n",
      "}\n",
      "\n",
      "loading weights file test-nli/checkpoint-1142\\pytorch_model.bin\n",
      "All model checkpoint weights were used when initializing BertForSequenceClassification.\n",
      "\n",
      "All the weights of BertForSequenceClassification were initialized from the model checkpoint at test-nli/checkpoint-1142.\n",
      "If your task is similar to the task the model of the checkpoint was trained on, you can already use BertForSequenceClassification for predictions without further training.\n",
      "***** Running Evaluation *****\n",
      "  Num examples = 36523\n",
      "  Batch size = 32\n"
     ]
    },
    {
     "data": {
      "text/html": [
       "\n",
       "    <div>\n",
       "      \n",
       "      <progress value='1428' max='1142' style='width:300px; height:20px; vertical-align: middle;'></progress>\n",
       "      [1142/1142 00:37]\n",
       "    </div>\n",
       "    "
      ],
      "text/plain": [
       "<IPython.core.display.HTML object>"
      ]
     },
     "metadata": {},
     "output_type": "display_data"
    },
    {
     "name": "stderr",
     "output_type": "stream",
     "text": [
      "***** Running Prediction *****\n",
      "  Num examples = 9131\n",
      "  Batch size = 32\n"
     ]
    },
    {
     "name": "stdout",
     "output_type": "stream",
     "text": [
      "{'eval_loss': 0.3221838176250458, 'eval_accuracy': 0.8977630534183939, 'eval_runtime': 29.7215, 'eval_samples_per_second': 1228.84, 'eval_steps_per_second': 38.423}\n"
     ]
    },
    {
     "name": "stderr",
     "output_type": "stream",
     "text": [
      "Didn't find file test-nli/checkpoint-571\\added_tokens.json. We won't load it.\n",
      "loading file test-nli/checkpoint-571\\vocab.txt\n",
      "loading file test-nli/checkpoint-571\\tokenizer.json\n",
      "loading file None\n",
      "loading file test-nli/checkpoint-571\\special_tokens_map.json\n",
      "loading file test-nli/checkpoint-571\\tokenizer_config.json\n",
      "loading configuration file test-nli/checkpoint-571\\config.json\n",
      "Model config BertConfig {\n",
      "  \"_name_or_path\": \"klue/bert-base\",\n",
      "  \"architectures\": [\n",
      "    \"BertForSequenceClassification\"\n",
      "  ],\n",
      "  \"attention_probs_dropout_prob\": 0.1,\n",
      "  \"gradient_checkpointing\": false,\n",
      "  \"hidden_act\": \"gelu\",\n",
      "  \"hidden_dropout_prob\": 0.1,\n",
      "  \"hidden_size\": 768,\n",
      "  \"id2label\": {\n",
      "    \"0\": \"LABEL_0\",\n",
      "    \"1\": \"LABEL_1\",\n",
      "    \"2\": \"LABEL_2\",\n",
      "    \"3\": \"LABEL_3\",\n",
      "    \"4\": \"LABEL_4\",\n",
      "    \"5\": \"LABEL_5\",\n",
      "    \"6\": \"LABEL_6\"\n",
      "  },\n",
      "  \"initializer_range\": 0.02,\n",
      "  \"intermediate_size\": 3072,\n",
      "  \"label2id\": {\n",
      "    \"LABEL_0\": 0,\n",
      "    \"LABEL_1\": 1,\n",
      "    \"LABEL_2\": 2,\n",
      "    \"LABEL_3\": 3,\n",
      "    \"LABEL_4\": 4,\n",
      "    \"LABEL_5\": 5,\n",
      "    \"LABEL_6\": 6\n",
      "  },\n",
      "  \"layer_norm_eps\": 1e-12,\n",
      "  \"max_position_embeddings\": 512,\n",
      "  \"model_type\": \"bert\",\n",
      "  \"num_attention_heads\": 12,\n",
      "  \"num_hidden_layers\": 12,\n",
      "  \"pad_token_id\": 0,\n",
      "  \"position_embedding_type\": \"absolute\",\n",
      "  \"problem_type\": \"single_label_classification\",\n",
      "  \"transformers_version\": \"4.8.2\",\n",
      "  \"type_vocab_size\": 2,\n",
      "  \"use_cache\": true,\n",
      "  \"vocab_size\": 32000\n",
      "}\n",
      "\n",
      "loading weights file test-nli/checkpoint-571\\pytorch_model.bin\n"
     ]
    },
    {
     "name": "stdout",
     "output_type": "stream",
     "text": [
      "[[ 1.8296647  -0.5886467   1.1916904  ... -1.8184546  -1.768165\n",
      "  -1.8238086 ]\n",
      " [-0.56964153 -1.3956958  -0.34061196 ... -0.7699641  -0.9862497\n",
      "  -1.0501513 ]\n",
      " [ 1.0363683  -0.03387248  2.7351336  ... -1.4208844  -1.6300248\n",
      "  -0.59794676]\n",
      " ...\n",
      " [-1.5907278  -1.4128801   3.1635294  ... -0.7266785  -1.2603605\n",
      "   0.03929582]\n",
      " [-0.81325316 -0.18853243  2.313022   ...  0.69500864 -0.9717218\n",
      "  -0.73073107]\n",
      " [ 0.9129015  -0.27370366  2.0075054  ... -1.6280522  -2.0125625\n",
      "   0.95499384]]\n",
      "[[ 1.82966471 -0.58864671  1.19169044 ... -1.81845462 -1.76816499\n",
      "  -1.82380855]\n",
      " [-0.56964153 -1.39569581 -0.34061196 ... -0.7699641  -0.98624969\n",
      "  -1.05015135]\n",
      " [ 1.03636825 -0.03387248  2.73513365 ... -1.42088437 -1.63002479\n",
      "  -0.59794676]\n",
      " ...\n",
      " [-1.59072781 -1.41288006  3.1635294  ... -0.72667849 -1.26036048\n",
      "   0.03929582]\n",
      " [-0.81325316 -0.18853243  2.3130219  ...  0.69500864 -0.97172183\n",
      "  -0.73073107]\n",
      " [ 0.91290152 -0.27370366  2.00750542 ... -1.62805223 -2.01256251\n",
      "   0.95499384]]\n"
     ]
    },
    {
     "name": "stderr",
     "output_type": "stream",
     "text": [
      "All model checkpoint weights were used when initializing BertForSequenceClassification.\n",
      "\n",
      "All the weights of BertForSequenceClassification were initialized from the model checkpoint at test-nli/checkpoint-571.\n",
      "If your task is similar to the task the model of the checkpoint was trained on, you can already use BertForSequenceClassification for predictions without further training.\n",
      "***** Running Evaluation *****\n",
      "  Num examples = 36523\n",
      "  Batch size = 32\n"
     ]
    },
    {
     "data": {
      "text/html": [
       "\n",
       "    <div>\n",
       "      \n",
       "      <progress value='1428' max='1142' style='width:300px; height:20px; vertical-align: middle;'></progress>\n",
       "      [1142/1142 00:38]\n",
       "    </div>\n",
       "    "
      ],
      "text/plain": [
       "<IPython.core.display.HTML object>"
      ]
     },
     "metadata": {},
     "output_type": "display_data"
    },
    {
     "name": "stderr",
     "output_type": "stream",
     "text": [
      "***** Running Prediction *****\n",
      "  Num examples = 9131\n",
      "  Batch size = 32\n"
     ]
    },
    {
     "name": "stdout",
     "output_type": "stream",
     "text": [
      "{'eval_loss': 0.43596768379211426, 'eval_accuracy': 0.8790351285491335, 'eval_runtime': 30.7206, 'eval_samples_per_second': 1188.878, 'eval_steps_per_second': 37.174}\n"
     ]
    },
    {
     "name": "stderr",
     "output_type": "stream",
     "text": [
      "Didn't find file test-nli/checkpoint-11415\\added_tokens.json. We won't load it.\n",
      "loading file test-nli/checkpoint-11415\\vocab.txt\n",
      "loading file test-nli/checkpoint-11415\\tokenizer.json\n",
      "loading file None\n",
      "loading file test-nli/checkpoint-11415\\special_tokens_map.json\n",
      "loading file test-nli/checkpoint-11415\\tokenizer_config.json\n",
      "loading configuration file test-nli/checkpoint-11415\\config.json\n",
      "Model config BertConfig {\n",
      "  \"_name_or_path\": \"klue/bert-base\",\n",
      "  \"architectures\": [\n",
      "    \"BertForSequenceClassification\"\n",
      "  ],\n",
      "  \"attention_probs_dropout_prob\": 0.1,\n",
      "  \"gradient_checkpointing\": false,\n",
      "  \"hidden_act\": \"gelu\",\n",
      "  \"hidden_dropout_prob\": 0.1,\n",
      "  \"hidden_size\": 768,\n",
      "  \"id2label\": {\n",
      "    \"0\": \"LABEL_0\",\n",
      "    \"1\": \"LABEL_1\",\n",
      "    \"2\": \"LABEL_2\",\n",
      "    \"3\": \"LABEL_3\",\n",
      "    \"4\": \"LABEL_4\",\n",
      "    \"5\": \"LABEL_5\",\n",
      "    \"6\": \"LABEL_6\"\n",
      "  },\n",
      "  \"initializer_range\": 0.02,\n",
      "  \"intermediate_size\": 3072,\n",
      "  \"label2id\": {\n",
      "    \"LABEL_0\": 0,\n",
      "    \"LABEL_1\": 1,\n",
      "    \"LABEL_2\": 2,\n",
      "    \"LABEL_3\": 3,\n",
      "    \"LABEL_4\": 4,\n",
      "    \"LABEL_5\": 5,\n",
      "    \"LABEL_6\": 6\n",
      "  },\n",
      "  \"layer_norm_eps\": 1e-12,\n",
      "  \"max_position_embeddings\": 512,\n",
      "  \"model_type\": \"bert\",\n",
      "  \"num_attention_heads\": 12,\n",
      "  \"num_hidden_layers\": 12,\n",
      "  \"pad_token_id\": 0,\n",
      "  \"position_embedding_type\": \"absolute\",\n",
      "  \"problem_type\": \"single_label_classification\",\n",
      "  \"transformers_version\": \"4.8.2\",\n",
      "  \"type_vocab_size\": 2,\n",
      "  \"use_cache\": true,\n",
      "  \"vocab_size\": 32000\n",
      "}\n",
      "\n",
      "loading weights file test-nli/checkpoint-11415\\pytorch_model.bin\n"
     ]
    },
    {
     "name": "stdout",
     "output_type": "stream",
     "text": [
      "[[ 2.2598155   0.13129948  0.8028287  ... -1.4706604  -1.1137404\n",
      "  -1.8833427 ]\n",
      " [-0.42463085 -1.1062497   0.49260506 ... -0.37027526 -0.81788224\n",
      "  -0.9205057 ]\n",
      " [ 1.4369446   1.148286    2.071815   ... -1.4183725  -0.8476488\n",
      "  -0.48760745]\n",
      " ...\n",
      " [-0.9841947  -1.3189999   2.1849656  ... -0.7079726  -0.78494215\n",
      "  -0.0338817 ]\n",
      " [ 0.15203664 -0.4153636   1.4171369  ...  0.4047152  -1.3455517\n",
      "  -0.82939667]\n",
      " [ 1.4163818   0.7006415   2.1672654  ... -1.2832208  -0.865139\n",
      "   0.03863312]]\n",
      "[[ 4.08948016 -0.45734723  1.99451917 ... -3.28911507 -2.88190544\n",
      "  -3.70715129]\n",
      " [-0.99427238 -2.5019455   0.1519931  ... -1.14023936 -1.80413193\n",
      "  -1.97065705]\n",
      " [ 2.47331285  1.11441351  4.80694866 ... -2.83925688 -2.47767359\n",
      "  -1.08555421]\n",
      " ...\n",
      " [-2.5749225  -2.73187995  5.34849501 ... -1.43465108 -2.04530263\n",
      "   0.00541412]\n",
      " [-0.66121653 -0.60389604  3.73015881 ...  1.09972385 -2.31727356\n",
      "  -1.56012774]\n",
      " [ 2.32928336  0.42693785  4.17477083 ... -2.911273   -2.87770152\n",
      "   0.99362696]]\n"
     ]
    },
    {
     "name": "stderr",
     "output_type": "stream",
     "text": [
      "All model checkpoint weights were used when initializing BertForSequenceClassification.\n",
      "\n",
      "All the weights of BertForSequenceClassification were initialized from the model checkpoint at test-nli/checkpoint-11415.\n",
      "If your task is similar to the task the model of the checkpoint was trained on, you can already use BertForSequenceClassification for predictions without further training.\n",
      "***** Running Evaluation *****\n",
      "  Num examples = 36523\n",
      "  Batch size = 32\n"
     ]
    },
    {
     "data": {
      "text/html": [
       "\n",
       "    <div>\n",
       "      \n",
       "      <progress value='1428' max='1142' style='width:300px; height:20px; vertical-align: middle;'></progress>\n",
       "      [1142/1142 00:39]\n",
       "    </div>\n",
       "    "
      ],
      "text/plain": [
       "<IPython.core.display.HTML object>"
      ]
     },
     "metadata": {},
     "output_type": "display_data"
    },
    {
     "name": "stderr",
     "output_type": "stream",
     "text": [
      "***** Running Prediction *****\n",
      "  Num examples = 9131\n",
      "  Batch size = 32\n"
     ]
    },
    {
     "name": "stdout",
     "output_type": "stream",
     "text": [
      "{'eval_loss': 0.3043401837348938, 'eval_accuracy': 0.9015414944007886, 'eval_runtime': 31.1409, 'eval_samples_per_second': 1172.832, 'eval_steps_per_second': 36.672}\n"
     ]
    },
    {
     "name": "stderr",
     "output_type": "stream",
     "text": [
      "Didn't find file test-nli/checkpoint-571\\added_tokens.json. We won't load it.\n",
      "loading file test-nli/checkpoint-571\\vocab.txt\n",
      "loading file test-nli/checkpoint-571\\tokenizer.json\n",
      "loading file None\n",
      "loading file test-nli/checkpoint-571\\special_tokens_map.json\n",
      "loading file test-nli/checkpoint-571\\tokenizer_config.json\n",
      "loading configuration file test-nli/checkpoint-571\\config.json\n",
      "Model config BertConfig {\n",
      "  \"_name_or_path\": \"klue/bert-base\",\n",
      "  \"architectures\": [\n",
      "    \"BertForSequenceClassification\"\n",
      "  ],\n",
      "  \"attention_probs_dropout_prob\": 0.1,\n",
      "  \"gradient_checkpointing\": false,\n",
      "  \"hidden_act\": \"gelu\",\n",
      "  \"hidden_dropout_prob\": 0.1,\n",
      "  \"hidden_size\": 768,\n",
      "  \"id2label\": {\n",
      "    \"0\": \"LABEL_0\",\n",
      "    \"1\": \"LABEL_1\",\n",
      "    \"2\": \"LABEL_2\",\n",
      "    \"3\": \"LABEL_3\",\n",
      "    \"4\": \"LABEL_4\",\n",
      "    \"5\": \"LABEL_5\",\n",
      "    \"6\": \"LABEL_6\"\n",
      "  },\n",
      "  \"initializer_range\": 0.02,\n",
      "  \"intermediate_size\": 3072,\n",
      "  \"label2id\": {\n",
      "    \"LABEL_0\": 0,\n",
      "    \"LABEL_1\": 1,\n",
      "    \"LABEL_2\": 2,\n",
      "    \"LABEL_3\": 3,\n",
      "    \"LABEL_4\": 4,\n",
      "    \"LABEL_5\": 5,\n",
      "    \"LABEL_6\": 6\n",
      "  },\n",
      "  \"layer_norm_eps\": 1e-12,\n",
      "  \"max_position_embeddings\": 512,\n",
      "  \"model_type\": \"bert\",\n",
      "  \"num_attention_heads\": 12,\n",
      "  \"num_hidden_layers\": 12,\n",
      "  \"pad_token_id\": 0,\n",
      "  \"position_embedding_type\": \"absolute\",\n",
      "  \"problem_type\": \"single_label_classification\",\n",
      "  \"transformers_version\": \"4.8.2\",\n",
      "  \"type_vocab_size\": 2,\n",
      "  \"use_cache\": true,\n",
      "  \"vocab_size\": 32000\n",
      "}\n",
      "\n",
      "loading weights file test-nli/checkpoint-571\\pytorch_model.bin\n"
     ]
    },
    {
     "name": "stdout",
     "output_type": "stream",
     "text": [
      "[[ 2.064334    0.21012658  2.1243653  ... -2.0071526  -2.3185873\n",
      "  -2.5845997 ]\n",
      " [-1.1953864  -1.2757684   0.01114397 ... -1.3939548  -1.375019\n",
      "  -0.97506446]\n",
      " [ 1.6084365   0.6152562   3.2158945  ... -2.043462   -2.218695\n",
      "  -1.4882942 ]\n",
      " ...\n",
      " [-1.3926386  -0.82570225  3.5132663  ... -1.2662323  -1.7714901\n",
      "  -1.5872611 ]\n",
      " [ 0.23991343  0.08502873  3.3901122  ...  1.0469296  -1.7540493\n",
      "  -0.49821532]\n",
      " [ 1.0527686  -0.2838865   2.4346354  ... -2.2863529  -1.7457349\n",
      "   1.1072292 ]]\n",
      "[[ 6.15381408 -0.24722065  4.1188845  ... -5.29626763 -5.20049274\n",
      "  -6.29175103]\n",
      " [-2.18965879 -3.77771389  0.16313706 ... -2.53419411 -3.17915088\n",
      "  -2.94572151]\n",
      " [ 4.08174932  1.7296697   8.02284312 ... -4.88271892 -4.69636852\n",
      "  -2.57384846]\n",
      " ...\n",
      " [-3.96756107 -3.5575822   8.86176133 ... -2.70088333 -3.81679273\n",
      "  -1.58184696]\n",
      " [-0.42130309 -0.51886731  7.12027097 ...  2.14665344 -4.07132286\n",
      "  -2.05834305]\n",
      " [ 3.38205194  0.14305136  6.60940623 ... -5.19762588 -4.62343645\n",
      "   2.1008562 ]]\n"
     ]
    },
    {
     "name": "stderr",
     "output_type": "stream",
     "text": [
      "All model checkpoint weights were used when initializing BertForSequenceClassification.\n",
      "\n",
      "All the weights of BertForSequenceClassification were initialized from the model checkpoint at test-nli/checkpoint-571.\n",
      "If your task is similar to the task the model of the checkpoint was trained on, you can already use BertForSequenceClassification for predictions without further training.\n",
      "***** Running Evaluation *****\n",
      "  Num examples = 36523\n",
      "  Batch size = 32\n"
     ]
    },
    {
     "data": {
      "text/html": [
       "\n",
       "    <div>\n",
       "      \n",
       "      <progress value='1428' max='1142' style='width:300px; height:20px; vertical-align: middle;'></progress>\n",
       "      [1142/1142 00:39]\n",
       "    </div>\n",
       "    "
      ],
      "text/plain": [
       "<IPython.core.display.HTML object>"
      ]
     },
     "metadata": {},
     "output_type": "display_data"
    },
    {
     "name": "stderr",
     "output_type": "stream",
     "text": [
      "***** Running Prediction *****\n",
      "  Num examples = 9131\n",
      "  Batch size = 32\n"
     ]
    },
    {
     "name": "stdout",
     "output_type": "stream",
     "text": [
      "{'eval_loss': 0.48963457345962524, 'eval_accuracy': 0.8541740820852614, 'eval_runtime': 31.0777, 'eval_samples_per_second': 1175.214, 'eval_steps_per_second': 36.747}\n"
     ]
    },
    {
     "name": "stderr",
     "output_type": "stream",
     "text": [
      "Didn't find file test-nli/checkpoint-3426\\added_tokens.json. We won't load it.\n",
      "loading file test-nli/checkpoint-3426\\vocab.txt\n",
      "loading file test-nli/checkpoint-3426\\tokenizer.json\n",
      "loading file None\n",
      "loading file test-nli/checkpoint-3426\\special_tokens_map.json\n",
      "loading file test-nli/checkpoint-3426\\tokenizer_config.json\n",
      "loading configuration file test-nli/checkpoint-3426\\config.json\n",
      "Model config BertConfig {\n",
      "  \"_name_or_path\": \"klue/bert-base\",\n",
      "  \"architectures\": [\n",
      "    \"BertForSequenceClassification\"\n",
      "  ],\n",
      "  \"attention_probs_dropout_prob\": 0.1,\n",
      "  \"gradient_checkpointing\": false,\n",
      "  \"hidden_act\": \"gelu\",\n",
      "  \"hidden_dropout_prob\": 0.1,\n",
      "  \"hidden_size\": 768,\n",
      "  \"id2label\": {\n",
      "    \"0\": \"LABEL_0\",\n",
      "    \"1\": \"LABEL_1\",\n",
      "    \"2\": \"LABEL_2\",\n",
      "    \"3\": \"LABEL_3\",\n",
      "    \"4\": \"LABEL_4\",\n",
      "    \"5\": \"LABEL_5\",\n",
      "    \"6\": \"LABEL_6\"\n",
      "  },\n",
      "  \"initializer_range\": 0.02,\n",
      "  \"intermediate_size\": 3072,\n",
      "  \"label2id\": {\n",
      "    \"LABEL_0\": 0,\n",
      "    \"LABEL_1\": 1,\n",
      "    \"LABEL_2\": 2,\n",
      "    \"LABEL_3\": 3,\n",
      "    \"LABEL_4\": 4,\n",
      "    \"LABEL_5\": 5,\n",
      "    \"LABEL_6\": 6\n",
      "  },\n",
      "  \"layer_norm_eps\": 1e-12,\n",
      "  \"max_position_embeddings\": 512,\n",
      "  \"model_type\": \"bert\",\n",
      "  \"num_attention_heads\": 12,\n",
      "  \"num_hidden_layers\": 12,\n",
      "  \"pad_token_id\": 0,\n",
      "  \"position_embedding_type\": \"absolute\",\n",
      "  \"problem_type\": \"single_label_classification\",\n",
      "  \"transformers_version\": \"4.8.2\",\n",
      "  \"type_vocab_size\": 2,\n",
      "  \"use_cache\": true,\n",
      "  \"vocab_size\": 32000\n",
      "}\n",
      "\n",
      "loading weights file test-nli/checkpoint-3426\\pytorch_model.bin\n"
     ]
    },
    {
     "name": "stdout",
     "output_type": "stream",
     "text": [
      "[[ 2.2598155   0.13129948  0.8028287  ... -1.4706604  -1.1137404\n",
      "  -1.8833427 ]\n",
      " [-0.42463085 -1.1062497   0.49260506 ... -0.37027526 -0.81788224\n",
      "  -0.9205057 ]\n",
      " [ 1.4369446   1.148286    2.071815   ... -1.4183725  -0.8476488\n",
      "  -0.48760745]\n",
      " ...\n",
      " [-0.9841947  -1.3189999   2.1849656  ... -0.7079726  -0.78494215\n",
      "  -0.0338817 ]\n",
      " [ 0.15203664 -0.4153636   1.4171369  ...  0.4047152  -1.3455517\n",
      "  -0.82939667]\n",
      " [ 1.4163818   0.7006415   2.1672654  ... -1.2832208  -0.865139\n",
      "   0.03863312]]\n",
      "[[ 8.41362953 -0.11592117  4.92171323 ... -6.76692808 -6.31423318\n",
      "  -8.17509377]\n",
      " [-2.61428964 -4.88396358  0.65574212 ... -2.90446937 -3.99703312\n",
      "  -3.86622721]\n",
      " [ 5.51869392  2.87795568 10.09465814 ... -6.30109143 -5.54401731\n",
      "  -3.06145591]\n",
      " ...\n",
      " [-4.95175576 -4.87658209 11.04672694 ... -3.40885592 -4.60173488\n",
      "  -1.61572865]\n",
      " [-0.26926646 -0.93423092  8.53740788 ...  2.55136865 -5.41687459\n",
      "  -2.88773972]\n",
      " [ 4.79843378  0.84369287  8.77667165 ... -6.48084664 -5.48857546\n",
      "   2.13948932]]\n"
     ]
    },
    {
     "name": "stderr",
     "output_type": "stream",
     "text": [
      "All model checkpoint weights were used when initializing BertForSequenceClassification.\n",
      "\n",
      "All the weights of BertForSequenceClassification were initialized from the model checkpoint at test-nli/checkpoint-3426.\n",
      "If your task is similar to the task the model of the checkpoint was trained on, you can already use BertForSequenceClassification for predictions without further training.\n",
      "***** Running Evaluation *****\n",
      "  Num examples = 36524\n",
      "  Batch size = 32\n"
     ]
    },
    {
     "data": {
      "text/html": [
       "\n",
       "    <div>\n",
       "      \n",
       "      <progress value='1428' max='1142' style='width:300px; height:20px; vertical-align: middle;'></progress>\n",
       "      [1142/1142 00:39]\n",
       "    </div>\n",
       "    "
      ],
      "text/plain": [
       "<IPython.core.display.HTML object>"
      ]
     },
     "metadata": {},
     "output_type": "display_data"
    },
    {
     "name": "stderr",
     "output_type": "stream",
     "text": [
      "***** Running Prediction *****\n",
      "  Num examples = 9131\n",
      "  Batch size = 32\n"
     ]
    },
    {
     "name": "stdout",
     "output_type": "stream",
     "text": [
      "{'eval_loss': 0.3067176938056946, 'eval_accuracy': 0.8982586792246194, 'eval_runtime': 30.8572, 'eval_samples_per_second': 1183.647, 'eval_steps_per_second': 37.009}\n",
      "[[ 2.1311948  -0.43703285  1.3604176  ... -2.1165307  -2.2085876\n",
      "  -2.1589136 ]\n",
      " [-0.91676015 -1.5316292  -0.24405459 ... -0.8290416  -1.1634315\n",
      "  -1.0989068 ]\n",
      " [ 1.4303285  -0.07308714  3.0889943  ... -1.8894304  -2.0010583\n",
      "  -0.57616544]\n",
      " ...\n",
      " [-1.5530137  -1.5394124   3.5624466  ... -0.9438938  -1.5631717\n",
      "  -0.61235416]\n",
      " [-0.8754548  -0.17047238  2.6757092  ...  0.7074295  -1.3031926\n",
      "  -0.9962959 ]\n",
      " [ 1.2663587  -0.464074    1.9526765  ... -1.9425809  -2.219511\n",
      "   1.4895629 ]]\n",
      "[[ 10.54482436  -0.55295402   6.28213084 ...  -8.88345873  -8.52282083\n",
      "  -10.33400738]\n",
      " [ -3.53104979  -6.41559279   0.41168754 ...  -3.73351097  -5.16046464\n",
      "   -4.96513397]\n",
      " [  6.94902241   2.80486854  13.1836524  ...  -8.19052184  -7.54507565\n",
      "   -3.63762134]\n",
      " ...\n",
      " [ -6.50476944  -6.41599447  14.60917354 ...  -4.35274971  -6.16490662\n",
      "   -2.22808281]\n",
      " [ -1.14472124  -1.1047033   11.21311712 ...   3.25879818  -6.7200672\n",
      "   -3.88403565]\n",
      " [  6.06479251   0.37961888  10.72934818 ...  -8.42342758  -7.70808649\n",
      "    3.62905218]]\n"
     ]
    }
   ],
   "source": [
    "for step, (train_idx, test_idx) in enumerate(skf.split(dataset[\"title\"],dataset[\"topic_idx\"])):\n",
    "    tokenizer = AutoTokenizer.from_pretrained(checkpoints[step], use_fast=True)\n",
    "    model = AutoModelForSequenceClassification.from_pretrained(checkpoints[step], num_labels=num_labels)\n",
    "    \n",
    "    dataset_train = pd.DataFrame()\n",
    "    dataset_val = pd.DataFrame()\n",
    "    \n",
    "    dataset_train[\"title\"] = dataset[\"title\"][train_idx]\n",
    "    dataset_train[\"topic_idx\"] = dataset[\"topic_idx\"][train_idx]\n",
    "    \n",
    "    dataset_val[\"title\"] = dataset[\"title\"][train_idx]\n",
    "    dataset_val[\"topic_idx\"] = dataset[\"topic_idx\"][train_idx]\n",
    "    \n",
    "    data_train = BERTDataset(dataset_train, \"title\", \"topic_idx\", tokenizer)\n",
    "    data_val = BERTDataset(dataset_val, \"title\", \"topic_idx\", tokenizer)\n",
    "    data_test = BERTDataset(test, \"title\", None, tokenizer)\n",
    "    \n",
    "    trainer = Trainer(\n",
    "        model=model,\n",
    "        args=args,\n",
    "        train_dataset=data_train,\n",
    "        eval_dataset=data_val,\n",
    "        tokenizer=tokenizer,\n",
    "        compute_metrics=compute_metrics\n",
    "        )\n",
    "    \n",
    "    print(trainer.evaluate())\n",
    "    pred = trainer.predict(data_test)\n",
    "    pred = pred[0]\n",
    "    print(pred)\n",
    "    result.append(pred)\n",
    "    total_pred += pred\n",
    "    print(total_pred)"
   ]
  },
  {
   "cell_type": "code",
   "execution_count": 32,
   "id": "e980da90",
   "metadata": {},
   "outputs": [],
   "source": [
    "total = np.argmax(total_pred,axis=1)"
   ]
  },
  {
   "cell_type": "code",
   "execution_count": 34,
   "id": "28aa3f0b",
   "metadata": {},
   "outputs": [
    {
     "data": {
      "text/plain": [
       "9131"
      ]
     },
     "execution_count": 34,
     "metadata": {},
     "output_type": "execute_result"
    }
   ],
   "source": [
    "len(total)"
   ]
  },
  {
   "cell_type": "code",
   "execution_count": 35,
   "id": "11754b71",
   "metadata": {},
   "outputs": [],
   "source": [
    "submission = pd.read_csv('data/sample_submission.csv')\n",
    "submission['topic_idx'] = total\n",
    "submission.to_csv(\"results/klue-bert-base-kfold5-0804.csv\",index=False)"
   ]
  },
  {
   "cell_type": "code",
   "execution_count": null,
   "id": "7125405e",
   "metadata": {},
   "outputs": [],
   "source": []
  }
 ],
 "metadata": {
  "kernelspec": {
   "display_name": "Python 3 (ipykernel)",
   "language": "python",
   "name": "python3"
  },
  "language_info": {
   "codemirror_mode": {
    "name": "ipython",
    "version": 3
   },
   "file_extension": ".py",
   "mimetype": "text/x-python",
   "name": "python",
   "nbconvert_exporter": "python",
   "pygments_lexer": "ipython3",
   "version": "3.9.6"
  }
 },
 "nbformat": 4,
 "nbformat_minor": 5
}
