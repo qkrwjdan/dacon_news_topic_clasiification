{
 "cells": [
  {
   "cell_type": "code",
   "execution_count": 1,
   "id": "a4c4a1cb",
   "metadata": {},
   "outputs": [],
   "source": [
    "import pandas as pd\n",
    "import numpy as np\n",
    "import random"
   ]
  },
  {
   "cell_type": "code",
   "execution_count": 2,
   "id": "f63ec641",
   "metadata": {},
   "outputs": [],
   "source": [
    "train = pd.read_csv(\"data/train_data.csv\")"
   ]
  },
  {
   "cell_type": "code",
   "execution_count": 3,
   "id": "2fc0bf06",
   "metadata": {},
   "outputs": [
    {
     "data": {
      "text/html": [
       "<div>\n",
       "<style scoped>\n",
       "    .dataframe tbody tr th:only-of-type {\n",
       "        vertical-align: middle;\n",
       "    }\n",
       "\n",
       "    .dataframe tbody tr th {\n",
       "        vertical-align: top;\n",
       "    }\n",
       "\n",
       "    .dataframe thead th {\n",
       "        text-align: right;\n",
       "    }\n",
       "</style>\n",
       "<table border=\"1\" class=\"dataframe\">\n",
       "  <thead>\n",
       "    <tr style=\"text-align: right;\">\n",
       "      <th></th>\n",
       "      <th>index</th>\n",
       "      <th>title</th>\n",
       "      <th>topic_idx</th>\n",
       "    </tr>\n",
       "  </thead>\n",
       "  <tbody>\n",
       "    <tr>\n",
       "      <th>0</th>\n",
       "      <td>0</td>\n",
       "      <td>인천→핀란드 항공기 결항…휴가철 여행객 분통</td>\n",
       "      <td>4</td>\n",
       "    </tr>\n",
       "    <tr>\n",
       "      <th>1</th>\n",
       "      <td>1</td>\n",
       "      <td>실리콘밸리 넘어서겠다…구글 15조원 들여 美전역 거점화</td>\n",
       "      <td>4</td>\n",
       "    </tr>\n",
       "    <tr>\n",
       "      <th>2</th>\n",
       "      <td>2</td>\n",
       "      <td>이란 외무 긴장완화 해결책은 미국이 경제전쟁 멈추는 것</td>\n",
       "      <td>4</td>\n",
       "    </tr>\n",
       "    <tr>\n",
       "      <th>3</th>\n",
       "      <td>3</td>\n",
       "      <td>NYT 클린턴 측근韓기업 특수관계 조명…공과 사 맞물려종합</td>\n",
       "      <td>4</td>\n",
       "    </tr>\n",
       "    <tr>\n",
       "      <th>4</th>\n",
       "      <td>4</td>\n",
       "      <td>시진핑 트럼프에 중미 무역협상 조속 타결 희망</td>\n",
       "      <td>4</td>\n",
       "    </tr>\n",
       "  </tbody>\n",
       "</table>\n",
       "</div>"
      ],
      "text/plain": [
       "   index                             title  topic_idx\n",
       "0      0          인천→핀란드 항공기 결항…휴가철 여행객 분통          4\n",
       "1      1    실리콘밸리 넘어서겠다…구글 15조원 들여 美전역 거점화          4\n",
       "2      2    이란 외무 긴장완화 해결책은 미국이 경제전쟁 멈추는 것          4\n",
       "3      3  NYT 클린턴 측근韓기업 특수관계 조명…공과 사 맞물려종합          4\n",
       "4      4         시진핑 트럼프에 중미 무역협상 조속 타결 희망          4"
      ]
     },
     "execution_count": 3,
     "metadata": {},
     "output_type": "execute_result"
    }
   ],
   "source": [
    "train.head()"
   ]
  },
  {
   "cell_type": "code",
   "execution_count": 4,
   "id": "dedfa386",
   "metadata": {},
   "outputs": [],
   "source": [
    "def random_deletion(words, p):\n",
    "    if len(words) == 1:\n",
    "        return words\n",
    "\n",
    "    new_words = []\n",
    "    for word in words:\n",
    "        r = random.uniform(0, 1)\n",
    "        if r > p:\n",
    "            new_words.append(word)\n",
    "\n",
    "    if len(new_words) == 0:\n",
    "        rand_int = random.randint(0, len(words)-1)\n",
    "        return [words[rand_int]]\n",
    "\n",
    "    return new_words"
   ]
  },
  {
   "cell_type": "code",
   "execution_count": 5,
   "id": "b6c7ba7a",
   "metadata": {},
   "outputs": [],
   "source": [
    "from konlpy.tag import Mecab  \n",
    "tokenizer = Mecab()\n",
    "train[\"tokenized\"] = [tokenizer.morphs(sentence) for sentence in train[\"title\"]]"
   ]
  },
  {
   "cell_type": "code",
   "execution_count": 6,
   "id": "be2c4492",
   "metadata": {},
   "outputs": [
    {
     "data": {
      "text/html": [
       "<div>\n",
       "<style scoped>\n",
       "    .dataframe tbody tr th:only-of-type {\n",
       "        vertical-align: middle;\n",
       "    }\n",
       "\n",
       "    .dataframe tbody tr th {\n",
       "        vertical-align: top;\n",
       "    }\n",
       "\n",
       "    .dataframe thead th {\n",
       "        text-align: right;\n",
       "    }\n",
       "</style>\n",
       "<table border=\"1\" class=\"dataframe\">\n",
       "  <thead>\n",
       "    <tr style=\"text-align: right;\">\n",
       "      <th></th>\n",
       "      <th>index</th>\n",
       "      <th>title</th>\n",
       "      <th>topic_idx</th>\n",
       "      <th>tokenized</th>\n",
       "    </tr>\n",
       "  </thead>\n",
       "  <tbody>\n",
       "    <tr>\n",
       "      <th>0</th>\n",
       "      <td>0</td>\n",
       "      <td>인천→핀란드 항공기 결항…휴가철 여행객 분통</td>\n",
       "      <td>4</td>\n",
       "      <td>[인천, →, 핀란드, 항공기, 결항, …, 휴가철, 여행객, 분통]</td>\n",
       "    </tr>\n",
       "    <tr>\n",
       "      <th>1</th>\n",
       "      <td>1</td>\n",
       "      <td>실리콘밸리 넘어서겠다…구글 15조원 들여 美전역 거점화</td>\n",
       "      <td>4</td>\n",
       "      <td>[실리콘밸리, 넘어서, 겠, 다, …, 구글, 15, 조, 원, 들여, 美, 전역,...</td>\n",
       "    </tr>\n",
       "    <tr>\n",
       "      <th>2</th>\n",
       "      <td>2</td>\n",
       "      <td>이란 외무 긴장완화 해결책은 미국이 경제전쟁 멈추는 것</td>\n",
       "      <td>4</td>\n",
       "      <td>[이란, 외무, 긴장, 완화, 해결책, 은, 미국, 이, 경제, 전쟁, 멈추, 는, 것]</td>\n",
       "    </tr>\n",
       "    <tr>\n",
       "      <th>3</th>\n",
       "      <td>3</td>\n",
       "      <td>NYT 클린턴 측근韓기업 특수관계 조명…공과 사 맞물려종합</td>\n",
       "      <td>4</td>\n",
       "      <td>[NYT, 클린턴, 측근, 韓, 기업, 특수, 관계, 조명, …, 공과, 사, 맞물...</td>\n",
       "    </tr>\n",
       "    <tr>\n",
       "      <th>4</th>\n",
       "      <td>4</td>\n",
       "      <td>시진핑 트럼프에 중미 무역협상 조속 타결 희망</td>\n",
       "      <td>4</td>\n",
       "      <td>[시진핑, 트럼프, 에, 중미, 무역, 협상, 조속, 타결, 희망]</td>\n",
       "    </tr>\n",
       "  </tbody>\n",
       "</table>\n",
       "</div>"
      ],
      "text/plain": [
       "   index                             title  topic_idx  \\\n",
       "0      0          인천→핀란드 항공기 결항…휴가철 여행객 분통          4   \n",
       "1      1    실리콘밸리 넘어서겠다…구글 15조원 들여 美전역 거점화          4   \n",
       "2      2    이란 외무 긴장완화 해결책은 미국이 경제전쟁 멈추는 것          4   \n",
       "3      3  NYT 클린턴 측근韓기업 특수관계 조명…공과 사 맞물려종합          4   \n",
       "4      4         시진핑 트럼프에 중미 무역협상 조속 타결 희망          4   \n",
       "\n",
       "                                           tokenized  \n",
       "0             [인천, →, 핀란드, 항공기, 결항, …, 휴가철, 여행객, 분통]  \n",
       "1  [실리콘밸리, 넘어서, 겠, 다, …, 구글, 15, 조, 원, 들여, 美, 전역,...  \n",
       "2  [이란, 외무, 긴장, 완화, 해결책, 은, 미국, 이, 경제, 전쟁, 멈추, 는, 것]  \n",
       "3  [NYT, 클린턴, 측근, 韓, 기업, 특수, 관계, 조명, …, 공과, 사, 맞물...  \n",
       "4              [시진핑, 트럼프, 에, 중미, 무역, 협상, 조속, 타결, 희망]  "
      ]
     },
     "execution_count": 6,
     "metadata": {},
     "output_type": "execute_result"
    }
   ],
   "source": [
    "train.head()"
   ]
  },
  {
   "cell_type": "code",
   "execution_count": 7,
   "id": "b4cefa6f",
   "metadata": {},
   "outputs": [],
   "source": [
    "rd = [random_deletion(tokenized,0.2) for tokenized in train.tokenized]"
   ]
  },
  {
   "cell_type": "code",
   "execution_count": 8,
   "id": "7d9b35b2",
   "metadata": {
    "scrolled": true
   },
   "outputs": [
    {
     "data": {
      "text/plain": [
       "[['인천', '→', '핀란드', '…', '휴가철', '여행객', '분통'],\n",
       " ['실리콘밸리', '겠', '다', '…', '15', '조', '원', '들여', '美', '전역', '거점'],\n",
       " ['이란', '외무', '긴장', '해결책', '은', '이', '경제', '전쟁', '멈추', '것'],\n",
       " ['NYT', '클린턴', '측근', '韓', '기업', '특수', '관계', '조명', '…', '사'],\n",
       " ['트럼프', '중미', '무역', '협상', '조속', '타결', '희망'],\n",
       " ['가', '구서', '16', '세', '소년', '이스라엘', '군', '총격', '에', '사망'],\n",
       " ['인도', '만', '에', '파키스탄', '공습', '테러', '캠프', '폭격', '종합', '2', '보'],\n",
       " ['美', '대선', 'TV', '토론', '만회', '실패', '트럼프', '…', '사과', '대신', '공격', '역효과'],\n",
       " ['푸틴', '한반도', '상황', '진전', '위한', '위원장', '논의'],\n",
       " ['특검', '면죄부', '받', '은', '트럼프', '스캔들', '맹공', '국민', '의', '적'],\n",
       " ['日', '오키', '나와서', '열린', '강제', '징용', '노동자', '추도식'],\n",
       " ['이란', '서', '최고', '지도자', '모욕', '혐의', '미국인', '에', '징역', '10'],\n",
       " ['카니발', '축제', '보', '가', '자', '…', '리우', '대형', '유람선', '행렬'],\n",
       " ['美', '올랜도', '병원', '최악', '총기', '부상자', '치료비', '안', '받', '는다'],\n",
       " ['日', '올해', '평균', '2', '.', '46', '%', '임금', '인상'],\n",
       " ['엘니뇨', '여전히', '…', '2', '분기', '될', '듯'],\n",
       " ['이스라엘', '네타냐후', '도', '병역', '문제', '로', '연정', '협상', '진통'],\n",
       " ['UAE', '사우디', '美', '호르무즈', '연합', '에', '참여', '키로'],\n",
       " ['사우디', '오만', '해', '공격', '예멘', '반군', '과', '연결', '…', '란', '겨냥'],\n",
       " ['개천', '에서', '나와라', '美', '사업가', '모교', '에', '1', '원', '기부']]"
      ]
     },
     "execution_count": 8,
     "metadata": {},
     "output_type": "execute_result"
    }
   ],
   "source": [
    "rd[:20]"
   ]
  },
  {
   "cell_type": "code",
   "execution_count": 9,
   "id": "9236698b",
   "metadata": {},
   "outputs": [],
   "source": [
    "rd_augmentation = pd.DataFrame({'augmented' : rd, 'topic_idx': train.topic_idx})"
   ]
  },
  {
   "cell_type": "code",
   "execution_count": 10,
   "id": "379c99eb",
   "metadata": {},
   "outputs": [],
   "source": [
    "rd_augmentation[\"title\"] = [\" \".join(words) for words in rd_augmentation.augmented]"
   ]
  },
  {
   "cell_type": "code",
   "execution_count": 11,
   "id": "bce3e130",
   "metadata": {},
   "outputs": [
    {
     "data": {
      "text/html": [
       "<div>\n",
       "<style scoped>\n",
       "    .dataframe tbody tr th:only-of-type {\n",
       "        vertical-align: middle;\n",
       "    }\n",
       "\n",
       "    .dataframe tbody tr th {\n",
       "        vertical-align: top;\n",
       "    }\n",
       "\n",
       "    .dataframe thead th {\n",
       "        text-align: right;\n",
       "    }\n",
       "</style>\n",
       "<table border=\"1\" class=\"dataframe\">\n",
       "  <thead>\n",
       "    <tr style=\"text-align: right;\">\n",
       "      <th></th>\n",
       "      <th>augmented</th>\n",
       "      <th>topic_idx</th>\n",
       "      <th>title</th>\n",
       "    </tr>\n",
       "  </thead>\n",
       "  <tbody>\n",
       "    <tr>\n",
       "      <th>0</th>\n",
       "      <td>[인천, →, 핀란드, …, 휴가철, 여행객, 분통]</td>\n",
       "      <td>4</td>\n",
       "      <td>인천 → 핀란드 … 휴가철 여행객 분통</td>\n",
       "    </tr>\n",
       "    <tr>\n",
       "      <th>1</th>\n",
       "      <td>[실리콘밸리, 겠, 다, …, 15, 조, 원, 들여, 美, 전역, 거점]</td>\n",
       "      <td>4</td>\n",
       "      <td>실리콘밸리 겠 다 … 15 조 원 들여 美 전역 거점</td>\n",
       "    </tr>\n",
       "    <tr>\n",
       "      <th>2</th>\n",
       "      <td>[이란, 외무, 긴장, 해결책, 은, 이, 경제, 전쟁, 멈추, 것]</td>\n",
       "      <td>4</td>\n",
       "      <td>이란 외무 긴장 해결책 은 이 경제 전쟁 멈추 것</td>\n",
       "    </tr>\n",
       "    <tr>\n",
       "      <th>3</th>\n",
       "      <td>[NYT, 클린턴, 측근, 韓, 기업, 특수, 관계, 조명, …, 사]</td>\n",
       "      <td>4</td>\n",
       "      <td>NYT 클린턴 측근 韓 기업 특수 관계 조명 … 사</td>\n",
       "    </tr>\n",
       "    <tr>\n",
       "      <th>4</th>\n",
       "      <td>[트럼프, 중미, 무역, 협상, 조속, 타결, 희망]</td>\n",
       "      <td>4</td>\n",
       "      <td>트럼프 중미 무역 협상 조속 타결 희망</td>\n",
       "    </tr>\n",
       "  </tbody>\n",
       "</table>\n",
       "</div>"
      ],
      "text/plain": [
       "                                   augmented  topic_idx  \\\n",
       "0              [인천, →, 핀란드, …, 휴가철, 여행객, 분통]          4   \n",
       "1  [실리콘밸리, 겠, 다, …, 15, 조, 원, 들여, 美, 전역, 거점]          4   \n",
       "2     [이란, 외무, 긴장, 해결책, 은, 이, 경제, 전쟁, 멈추, 것]          4   \n",
       "3    [NYT, 클린턴, 측근, 韓, 기업, 특수, 관계, 조명, …, 사]          4   \n",
       "4              [트럼프, 중미, 무역, 협상, 조속, 타결, 희망]          4   \n",
       "\n",
       "                           title  \n",
       "0          인천 → 핀란드 … 휴가철 여행객 분통  \n",
       "1  실리콘밸리 겠 다 … 15 조 원 들여 美 전역 거점  \n",
       "2    이란 외무 긴장 해결책 은 이 경제 전쟁 멈추 것  \n",
       "3   NYT 클린턴 측근 韓 기업 특수 관계 조명 … 사  \n",
       "4          트럼프 중미 무역 협상 조속 타결 희망  "
      ]
     },
     "execution_count": 11,
     "metadata": {},
     "output_type": "execute_result"
    }
   ],
   "source": [
    "rd_augmentation.head()"
   ]
  },
  {
   "cell_type": "code",
   "execution_count": 12,
   "id": "4447f5c4",
   "metadata": {},
   "outputs": [],
   "source": [
    "rd_augmentation.to_csv(\"data/train_rd_augmentation.csv\")"
   ]
  },
  {
   "cell_type": "code",
   "execution_count": 13,
   "id": "71c67390",
   "metadata": {},
   "outputs": [],
   "source": [
    "def random_swap(words, n):\n",
    "\tnew_words = words.copy()\n",
    "\tfor _ in range(n):\n",
    "\t\tnew_words = swap_word(new_words)\n",
    "\n",
    "\treturn new_words\n",
    "\n",
    "def swap_word(new_words):\n",
    "\trandom_idx_1 = random.randint(0, len(new_words)-1)\n",
    "\trandom_idx_2 = random_idx_1\n",
    "\tcounter = 0\n",
    "\n",
    "\twhile random_idx_2 == random_idx_1:\n",
    "\t\trandom_idx_2 = random.randint(0, len(new_words)-1)\n",
    "\t\tcounter += 1\n",
    "\t\tif counter > 3:\n",
    "\t\t\treturn new_words\n",
    "\n",
    "\tnew_words[random_idx_1], new_words[random_idx_2] = new_words[random_idx_2], new_words[random_idx_1]\n",
    "\treturn new_words"
   ]
  },
  {
   "cell_type": "code",
   "execution_count": 14,
   "id": "9f891a44",
   "metadata": {},
   "outputs": [],
   "source": [
    "rs = [random_swap(tokenized,2) for tokenized in train.tokenized]"
   ]
  },
  {
   "cell_type": "code",
   "execution_count": 15,
   "id": "0aec89ab",
   "metadata": {
    "scrolled": true
   },
   "outputs": [
    {
     "data": {
      "text/plain": [
       "[['인천', '항공기', '핀란드', '→', '분통', '…', '휴가철', '여행객', '결항'],\n",
       " ['실리콘밸리',\n",
       "  '넘어서',\n",
       "  '겠',\n",
       "  '다',\n",
       "  '…',\n",
       "  '들여',\n",
       "  '15',\n",
       "  '조',\n",
       "  '원',\n",
       "  '구글',\n",
       "  '화',\n",
       "  '전역',\n",
       "  '거점',\n",
       "  '美'],\n",
       " ['이란', '전쟁', '이', '완화', '해결책', '은', '미국', '긴장', '경제', '외무', '멈추', '는', '것'],\n",
       " ['NYT',\n",
       "  '클린턴',\n",
       "  '측근',\n",
       "  '韓',\n",
       "  '기업',\n",
       "  '조명',\n",
       "  '관계',\n",
       "  '맞물려',\n",
       "  '…',\n",
       "  '공과',\n",
       "  '사',\n",
       "  '특수',\n",
       "  '종합'],\n",
       " ['시진핑', '트럼프', '조속', '중미', '에', '협상', '무역', '타결', '희망'],\n",
       " ['팔레스타인', '가', '자', '세', '구서', '16', '지', '소년', '총격', '군', '이스라엘', '에', '사망'],\n",
       " ['인도',\n",
       "  '48',\n",
       "  '년',\n",
       "  '2',\n",
       "  '에',\n",
       "  '만',\n",
       "  '공습',\n",
       "  '…',\n",
       "  '테러',\n",
       "  '캠프',\n",
       "  '폭격',\n",
       "  '종합',\n",
       "  '파키스탄',\n",
       "  '보'],\n",
       " ['美',\n",
       "  '대선',\n",
       "  'TV',\n",
       "  '토론',\n",
       "  '대신',\n",
       "  '역효과',\n",
       "  '실패',\n",
       "  '트럼프',\n",
       "  '…',\n",
       "  '사과',\n",
       "  '음담패설',\n",
       "  '빌클린턴',\n",
       "  '공격',\n",
       "  '해',\n",
       "  '만회'],\n",
       " ['푸틴', '한반도', '방안', '진전', '상황', '위한', '김정은', '위원장', '과', '논의'],\n",
       " ['특검', '면죄부', '받', '은', '트럼프', '국민', '…', '언론', '맹공', '보도', '스캔들', '의', '적']]"
      ]
     },
     "execution_count": 15,
     "metadata": {},
     "output_type": "execute_result"
    }
   ],
   "source": [
    "rs[:10]"
   ]
  },
  {
   "cell_type": "code",
   "execution_count": 16,
   "id": "6e9039cb",
   "metadata": {},
   "outputs": [],
   "source": [
    "rs_augmentation = pd.DataFrame({'augmented' : rs, 'topic_idx': train.topic_idx})"
   ]
  },
  {
   "cell_type": "code",
   "execution_count": 17,
   "id": "1f09e745",
   "metadata": {},
   "outputs": [],
   "source": [
    "rs_augmentation[\"title\"] = [\" \".join(words) for words in rs_augmentation.augmented]"
   ]
  },
  {
   "cell_type": "code",
   "execution_count": 18,
   "id": "f7aed58d",
   "metadata": {},
   "outputs": [
    {
     "data": {
      "text/html": [
       "<div>\n",
       "<style scoped>\n",
       "    .dataframe tbody tr th:only-of-type {\n",
       "        vertical-align: middle;\n",
       "    }\n",
       "\n",
       "    .dataframe tbody tr th {\n",
       "        vertical-align: top;\n",
       "    }\n",
       "\n",
       "    .dataframe thead th {\n",
       "        text-align: right;\n",
       "    }\n",
       "</style>\n",
       "<table border=\"1\" class=\"dataframe\">\n",
       "  <thead>\n",
       "    <tr style=\"text-align: right;\">\n",
       "      <th></th>\n",
       "      <th>augmented</th>\n",
       "      <th>topic_idx</th>\n",
       "      <th>title</th>\n",
       "    </tr>\n",
       "  </thead>\n",
       "  <tbody>\n",
       "    <tr>\n",
       "      <th>0</th>\n",
       "      <td>[인천, 항공기, 핀란드, →, 분통, …, 휴가철, 여행객, 결항]</td>\n",
       "      <td>4</td>\n",
       "      <td>인천 항공기 핀란드 → 분통 … 휴가철 여행객 결항</td>\n",
       "    </tr>\n",
       "    <tr>\n",
       "      <th>1</th>\n",
       "      <td>[실리콘밸리, 넘어서, 겠, 다, …, 들여, 15, 조, 원, 구글, 화, 전역,...</td>\n",
       "      <td>4</td>\n",
       "      <td>실리콘밸리 넘어서 겠 다 … 들여 15 조 원 구글 화 전역 거점 美</td>\n",
       "    </tr>\n",
       "    <tr>\n",
       "      <th>2</th>\n",
       "      <td>[이란, 전쟁, 이, 완화, 해결책, 은, 미국, 긴장, 경제, 외무, 멈추, 는, 것]</td>\n",
       "      <td>4</td>\n",
       "      <td>이란 전쟁 이 완화 해결책 은 미국 긴장 경제 외무 멈추 는 것</td>\n",
       "    </tr>\n",
       "    <tr>\n",
       "      <th>3</th>\n",
       "      <td>[NYT, 클린턴, 측근, 韓, 기업, 조명, 관계, 맞물려, …, 공과, 사, 특...</td>\n",
       "      <td>4</td>\n",
       "      <td>NYT 클린턴 측근 韓 기업 조명 관계 맞물려 … 공과 사 특수 종합</td>\n",
       "    </tr>\n",
       "    <tr>\n",
       "      <th>4</th>\n",
       "      <td>[시진핑, 트럼프, 조속, 중미, 에, 협상, 무역, 타결, 희망]</td>\n",
       "      <td>4</td>\n",
       "      <td>시진핑 트럼프 조속 중미 에 협상 무역 타결 희망</td>\n",
       "    </tr>\n",
       "  </tbody>\n",
       "</table>\n",
       "</div>"
      ],
      "text/plain": [
       "                                           augmented  topic_idx  \\\n",
       "0             [인천, 항공기, 핀란드, →, 분통, …, 휴가철, 여행객, 결항]          4   \n",
       "1  [실리콘밸리, 넘어서, 겠, 다, …, 들여, 15, 조, 원, 구글, 화, 전역,...          4   \n",
       "2  [이란, 전쟁, 이, 완화, 해결책, 은, 미국, 긴장, 경제, 외무, 멈추, 는, 것]          4   \n",
       "3  [NYT, 클린턴, 측근, 韓, 기업, 조명, 관계, 맞물려, …, 공과, 사, 특...          4   \n",
       "4              [시진핑, 트럼프, 조속, 중미, 에, 협상, 무역, 타결, 희망]          4   \n",
       "\n",
       "                                    title  \n",
       "0            인천 항공기 핀란드 → 분통 … 휴가철 여행객 결항  \n",
       "1  실리콘밸리 넘어서 겠 다 … 들여 15 조 원 구글 화 전역 거점 美  \n",
       "2     이란 전쟁 이 완화 해결책 은 미국 긴장 경제 외무 멈추 는 것  \n",
       "3  NYT 클린턴 측근 韓 기업 조명 관계 맞물려 … 공과 사 특수 종합  \n",
       "4             시진핑 트럼프 조속 중미 에 협상 무역 타결 희망  "
      ]
     },
     "execution_count": 18,
     "metadata": {},
     "output_type": "execute_result"
    }
   ],
   "source": [
    "rs_augmentation.head()"
   ]
  },
  {
   "cell_type": "code",
   "execution_count": 19,
   "id": "75e67341",
   "metadata": {},
   "outputs": [],
   "source": [
    "rs_augmentation.to_csv(\"data/train_rs_augmentation.csv\")"
   ]
  },
  {
   "cell_type": "code",
   "execution_count": 96,
   "id": "402475ac",
   "metadata": {},
   "outputs": [],
   "source": []
  },
  {
   "cell_type": "code",
   "execution_count": null,
   "id": "e4dec18e",
   "metadata": {},
   "outputs": [],
   "source": []
  }
 ],
 "metadata": {
  "kernelspec": {
   "display_name": "Python 3",
   "language": "python",
   "name": "python3"
  },
  "language_info": {
   "codemirror_mode": {
    "name": "ipython",
    "version": 3
   },
   "file_extension": ".py",
   "mimetype": "text/x-python",
   "name": "python",
   "nbconvert_exporter": "python",
   "pygments_lexer": "ipython3",
   "version": "3.6.9"
  }
 },
 "nbformat": 4,
 "nbformat_minor": 5
}
