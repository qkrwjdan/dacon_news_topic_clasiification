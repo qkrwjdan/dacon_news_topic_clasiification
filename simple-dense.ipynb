{
 "cells": [
  {
   "cell_type": "code",
   "execution_count": 1,
   "id": "41eb9385",
   "metadata": {},
   "outputs": [],
   "source": [
    "import pandas as pd\n",
    "import numpy as np\n",
    "import re\n",
    "\n",
    "from sklearn.feature_extraction.text import TfidfVectorizer\n",
    "\n",
    "import tensorflow as tf\n",
    "from tensorflow.keras.layers import Input, Dense, BatchNormalization, Dropout\n",
    "from tensorflow.keras import Sequential"
   ]
  },
  {
   "cell_type": "code",
   "execution_count": 2,
   "id": "3dc02fd5",
   "metadata": {},
   "outputs": [],
   "source": [
    "train      = pd.read_csv(\"data/train_data.csv\")\n",
    "test       = pd.read_csv(\"data/test_data.csv\")\n",
    "submission = pd.read_csv(\"data/sample_submission.csv\")\n",
    "topic_dict = pd.read_csv(\"data/topic_dict.csv\")"
   ]
  },
  {
   "cell_type": "code",
   "execution_count": 3,
   "id": "b6d3398d",
   "metadata": {},
   "outputs": [],
   "source": [
    "def clean_text(sent):\n",
    "  sent_clean = re.sub(\"[^가-힣ㄱ-ㅎㅏ-ㅣ\\\\s]\", \" \", sent)\n",
    "  return sent_clean\n",
    "\n",
    "train[\"cleaned_title\"] = train[\"title\"].apply(lambda x : clean_text(x))\n",
    "test[\"cleaned_title\"]  = test[\"title\"].apply(lambda x : clean_text(x))\n",
    "\n",
    "train_text = train[\"cleaned_title\"].tolist()\n",
    "test_text = test[\"cleaned_title\"].tolist()\n",
    "train_label = np.asarray(train.topic_idx)\n",
    "\n",
    "tfidf = TfidfVectorizer(analyzer='word', sublinear_tf=True, ngram_range=(1, 2), max_features=150000, binary=False)\n",
    "\n",
    "tfidf.fit(train_text)\n",
    "\n",
    "train_tf_text = tfidf.transform(train_text).astype('float32')\n",
    "test_tf_text  = tfidf.transform(test_text).astype('float32')"
   ]
  },
  {
   "cell_type": "code",
   "execution_count": 4,
   "id": "ca2cf158",
   "metadata": {},
   "outputs": [],
   "source": [
    "def dnn_model():\n",
    "  model = Sequential()\n",
    "  model.add(Dense(128, input_dim = 150000, activation = \"relu\"))\n",
    "  model.add(Dropout(0.8))\n",
    "  model.add(Dense(7, activation = \"softmax\"))\n",
    "  return model"
   ]
  },
  {
   "cell_type": "code",
   "execution_count": 5,
   "id": "c4fe969b",
   "metadata": {},
   "outputs": [],
   "source": [
    "model = dnn_model()\n",
    "model.compile(loss = 'sparse_categorical_crossentropy', optimizer = tf.optimizers.Adam(0.001), metrics = ['accuracy'])"
   ]
  },
  {
   "cell_type": "code",
   "execution_count": 6,
   "id": "5976dd38",
   "metadata": {},
   "outputs": [
    {
     "name": "stdout",
     "output_type": "stream",
     "text": [
      "Epoch 1/4\n"
     ]
    },
    {
     "name": "stderr",
     "output_type": "stream",
     "text": [
      "/home/park/Workspace/dacon-new-classification/venv/lib/python3.6/site-packages/tensorflow/python/framework/indexed_slices.py:449: UserWarning: Converting sparse IndexedSlices(IndexedSlices(indices=Tensor(\"gradient_tape/sequential/dense/embedding_lookup_sparse/Reshape_1:0\", shape=(None,), dtype=int32), values=Tensor(\"gradient_tape/sequential/dense/embedding_lookup_sparse/Reshape:0\", shape=(None, 128), dtype=float32), dense_shape=Tensor(\"gradient_tape/sequential/dense/embedding_lookup_sparse/Cast:0\", shape=(2,), dtype=int32))) to a dense Tensor of unknown shape. This may consume a large amount of memory.\n",
      "  \"shape. This may consume a large amount of memory.\" % value)\n"
     ]
    },
    {
     "name": "stdout",
     "output_type": "stream",
     "text": [
      "1250/1250 [==============================] - 183s 146ms/step - loss: 1.4033 - accuracy: 0.5458 - val_loss: 1.1151 - val_accuracy: 0.7239\n",
      "Epoch 2/4\n",
      "1250/1250 [==============================] - 178s 143ms/step - loss: 0.6802 - accuracy: 0.8001 - val_loss: 0.7739 - val_accuracy: 0.7671\n",
      "Epoch 3/4\n",
      "1250/1250 [==============================] - 179s 143ms/step - loss: 0.4393 - accuracy: 0.8737 - val_loss: 0.6824 - val_accuracy: 0.7823\n",
      "Epoch 4/4\n",
      "1250/1250 [==============================] - 180s 144ms/step - loss: 0.3157 - accuracy: 0.9097 - val_loss: 0.6513 - val_accuracy: 0.7842\n"
     ]
    }
   ],
   "source": [
    "history = model.fit(x = train_tf_text[:40000], y = train_label[:40000],\n",
    "                    validation_data =(train_tf_text[40000:], train_label[40000:]),\n",
    "                    epochs = 4)"
   ]
  },
  {
   "cell_type": "code",
   "execution_count": 7,
   "id": "6a35c558",
   "metadata": {},
   "outputs": [],
   "source": [
    "tmp_pred = model.predict(test_tf_text)\n",
    "pred = np.argmax(tmp_pred, axis = 1)"
   ]
  },
  {
   "cell_type": "code",
   "execution_count": 10,
   "id": "7f763afb",
   "metadata": {},
   "outputs": [
    {
     "data": {
      "text/plain": [
       "array([0.11681657, 0.0302223 , 0.611529  , 0.2268661 , 0.00416492,\n",
       "       0.00250056, 0.00790059], dtype=float32)"
      ]
     },
     "execution_count": 10,
     "metadata": {},
     "output_type": "execute_result"
    }
   ],
   "source": [
    "tmp_pred[0]"
   ]
  },
  {
   "cell_type": "code",
   "execution_count": 12,
   "id": "badde594",
   "metadata": {},
   "outputs": [],
   "source": [
    "test_y_df = pd.DataFrame(tmp_pred)"
   ]
  },
  {
   "cell_type": "code",
   "execution_count": 13,
   "id": "093ca3bb",
   "metadata": {},
   "outputs": [],
   "source": [
    "test_y_df.to_csv('ensemble/simple-dense.csv')"
   ]
  },
  {
   "cell_type": "code",
   "execution_count": 8,
   "id": "38a13d2e",
   "metadata": {},
   "outputs": [
    {
     "data": {
      "text/html": [
       "<div>\n",
       "<style scoped>\n",
       "    .dataframe tbody tr th:only-of-type {\n",
       "        vertical-align: middle;\n",
       "    }\n",
       "\n",
       "    .dataframe tbody tr th {\n",
       "        vertical-align: top;\n",
       "    }\n",
       "\n",
       "    .dataframe thead th {\n",
       "        text-align: right;\n",
       "    }\n",
       "</style>\n",
       "<table border=\"1\" class=\"dataframe\">\n",
       "  <thead>\n",
       "    <tr style=\"text-align: right;\">\n",
       "      <th></th>\n",
       "      <th>index</th>\n",
       "      <th>topic_idx</th>\n",
       "    </tr>\n",
       "  </thead>\n",
       "  <tbody>\n",
       "    <tr>\n",
       "      <th>2818</th>\n",
       "      <td>48472</td>\n",
       "      <td>6</td>\n",
       "    </tr>\n",
       "    <tr>\n",
       "      <th>1302</th>\n",
       "      <td>46956</td>\n",
       "      <td>1</td>\n",
       "    </tr>\n",
       "    <tr>\n",
       "      <th>5169</th>\n",
       "      <td>50823</td>\n",
       "      <td>5</td>\n",
       "    </tr>\n",
       "  </tbody>\n",
       "</table>\n",
       "</div>"
      ],
      "text/plain": [
       "      index  topic_idx\n",
       "2818  48472          6\n",
       "1302  46956          1\n",
       "5169  50823          5"
      ]
     },
     "execution_count": 8,
     "metadata": {},
     "output_type": "execute_result"
    }
   ],
   "source": [
    "submission.topic_idx = pred\n",
    "submission.sample(3)"
   ]
  },
  {
   "cell_type": "code",
   "execution_count": null,
   "id": "6b94f6e5",
   "metadata": {},
   "outputs": [],
   "source": []
  }
 ],
 "metadata": {
  "kernelspec": {
   "display_name": "Python 3",
   "language": "python",
   "name": "python3"
  },
  "language_info": {
   "codemirror_mode": {
    "name": "ipython",
    "version": 3
   },
   "file_extension": ".py",
   "mimetype": "text/x-python",
   "name": "python",
   "nbconvert_exporter": "python",
   "pygments_lexer": "ipython3",
   "version": "3.6.9"
  }
 },
 "nbformat": 4,
 "nbformat_minor": 5
}
