{
 "cells": [
  {
   "cell_type": "code",
   "execution_count": 3,
   "id": "a80cf1d9",
   "metadata": {},
   "outputs": [],
   "source": [
    "import random\n",
    "import logging\n",
    "from IPython.display import display, HTML\n",
    "\n",
    "import numpy as np\n",
    "import pandas as pd\n",
    "import datasets\n",
    "from datasets import load_dataset, load_metric, ClassLabel, Sequence\n",
    "from transformers import AutoTokenizer, AutoModelForSequenceClassification, TrainingArguments, Trainer\n",
    "\n",
    "from sklearn.model_selection import train_test_split\n",
    "\n",
    "import torch\n",
    "from torch import nn\n",
    "import torch.nn.functional as F\n",
    "import torch.optim as optim\n",
    "from torch.utils.data import Dataset, DataLoader"
   ]
  },
  {
   "cell_type": "code",
   "execution_count": 4,
   "id": "d2817b0a",
   "metadata": {},
   "outputs": [
    {
     "data": {
      "text/plain": [
       "True"
      ]
     },
     "execution_count": 4,
     "metadata": {},
     "output_type": "execute_result"
    }
   ],
   "source": [
    "torch.cuda.is_available()"
   ]
  },
  {
   "cell_type": "code",
   "execution_count": 5,
   "id": "39c98d69",
   "metadata": {},
   "outputs": [],
   "source": [
    "model_checkpoint = \"klue/bert-base\"\n",
    "batch_size = 32\n",
    "task = \"nli\"\n",
    "MODEL_P = \"models/klue-bert-base-augmented.pth\"\n",
    "RANDOM_SEED = 17"
   ]
  },
  {
   "cell_type": "code",
   "execution_count": 6,
   "id": "1124b66f",
   "metadata": {},
   "outputs": [
    {
     "data": {
      "application/vnd.jupyter.widget-view+json": {
       "model_id": "afff5345dee94048bd1663605ab53c2f",
       "version_major": 2,
       "version_minor": 0
      },
      "text/plain": [
       "Downloading:   0%|          | 0.00/289 [00:00<?, ?B/s]"
      ]
     },
     "metadata": {},
     "output_type": "display_data"
    },
    {
     "data": {
      "application/vnd.jupyter.widget-view+json": {
       "model_id": "1bb55ed77eeb40fba1dbe9610eac4394",
       "version_major": 2,
       "version_minor": 0
      },
      "text/plain": [
       "Downloading:   0%|          | 0.00/428 [00:00<?, ?B/s]"
      ]
     },
     "metadata": {},
     "output_type": "display_data"
    },
    {
     "data": {
      "application/vnd.jupyter.widget-view+json": {
       "model_id": "86e8cde4508a43eba4d6ad066f902bb9",
       "version_major": 2,
       "version_minor": 0
      },
      "text/plain": [
       "Downloading:   0%|          | 0.00/248k [00:00<?, ?B/s]"
      ]
     },
     "metadata": {},
     "output_type": "display_data"
    },
    {
     "data": {
      "application/vnd.jupyter.widget-view+json": {
       "model_id": "467b3efb1c51494a97528271008d80c2",
       "version_major": 2,
       "version_minor": 0
      },
      "text/plain": [
       "Downloading:   0%|          | 0.00/125 [00:00<?, ?B/s]"
      ]
     },
     "metadata": {},
     "output_type": "display_data"
    }
   ],
   "source": [
    "tokenizer = AutoTokenizer.from_pretrained(model_checkpoint, use_fast=True)"
   ]
  },
  {
   "cell_type": "code",
   "execution_count": 7,
   "id": "edade777",
   "metadata": {},
   "outputs": [],
   "source": [
    "dataset = pd.read_csv(\"data/train_data.csv\",index_col=False)\n",
    "test = pd.read_csv(\"data/test_data.csv\",index_col=False)"
   ]
  },
  {
   "cell_type": "code",
   "execution_count": 8,
   "id": "b2d651dd",
   "metadata": {},
   "outputs": [],
   "source": [
    "dataset_train, dataset_val = train_test_split(dataset,test_size = 0.2,random_state = RANDOM_SEED)"
   ]
  },
  {
   "cell_type": "code",
   "execution_count": 9,
   "id": "afa4013e",
   "metadata": {},
   "outputs": [],
   "source": [
    "class BERTDataset(Dataset):\n",
    "    def __init__(self, dataset, sent_key, label_key, bert_tokenizer):\n",
    "        \n",
    "        self.sentences = [ bert_tokenizer(i,truncation=True,return_token_type_ids=False) for i in dataset[sent_key] ]\n",
    "        \n",
    "        if not label_key == None:\n",
    "            self.mode = \"train\"\n",
    "        else:\n",
    "            self.mode = \"test\"\n",
    "            \n",
    "        if self.mode == \"train\":\n",
    "            self.labels = [np.int64(i) for i in dataset[label_key]]\n",
    "        else:\n",
    "            self.labels = [np.int64(0) for i in dataset[sent_key]]\n",
    "\n",
    "    def __getitem__(self, i):\n",
    "        if self.mode == \"train\":\n",
    "            self.sentences[i][\"label\"] = self.labels[i]\n",
    "            return self.sentences[i]\n",
    "#             return ( self.sentences[i] , self.labels[i] )\n",
    "        else:\n",
    "            return self.sentences[i]\n",
    "\n",
    "    def __len__(self):\n",
    "        return (len(self.labels))\n"
   ]
  },
  {
   "cell_type": "code",
   "execution_count": 10,
   "id": "37efe64b",
   "metadata": {},
   "outputs": [],
   "source": [
    "data_train = BERTDataset(dataset_train, \"title\", \"topic_idx\", tokenizer)\n",
    "data_val = BERTDataset(dataset_val, \"title\", \"topic_idx\", tokenizer)\n",
    "data_test = BERTDataset(test, \"title\", None, tokenizer)"
   ]
  },
  {
   "cell_type": "code",
   "execution_count": 11,
   "id": "b3ae8bc4",
   "metadata": {},
   "outputs": [
    {
     "data": {
      "application/vnd.jupyter.widget-view+json": {
       "model_id": "959a9dd4975e4a9a8dba8c45d471f876",
       "version_major": 2,
       "version_minor": 0
      },
      "text/plain": [
       "Downloading:   0%|          | 0.00/445M [00:00<?, ?B/s]"
      ]
     },
     "metadata": {},
     "output_type": "display_data"
    },
    {
     "name": "stderr",
     "output_type": "stream",
     "text": [
      "Some weights of the model checkpoint at klue/bert-base were not used when initializing BertForSequenceClassification: ['cls.predictions.transform.LayerNorm.bias', 'cls.predictions.bias', 'cls.predictions.transform.dense.weight', 'cls.predictions.decoder.bias', 'cls.seq_relationship.weight', 'cls.predictions.transform.dense.bias', 'cls.predictions.decoder.weight', 'cls.seq_relationship.bias', 'cls.predictions.transform.LayerNorm.weight']\n",
      "- This IS expected if you are initializing BertForSequenceClassification from the checkpoint of a model trained on another task or with another architecture (e.g. initializing a BertForSequenceClassification model from a BertForPreTraining model).\n",
      "- This IS NOT expected if you are initializing BertForSequenceClassification from the checkpoint of a model that you expect to be exactly identical (initializing a BertForSequenceClassification model from a BertForSequenceClassification model).\n",
      "Some weights of BertForSequenceClassification were not initialized from the model checkpoint at klue/bert-base and are newly initialized: ['classifier.weight', 'classifier.bias']\n",
      "You should probably TRAIN this model on a down-stream task to be able to use it for predictions and inference.\n"
     ]
    }
   ],
   "source": [
    "num_labels = 7\n",
    "model = AutoModelForSequenceClassification.from_pretrained(model_checkpoint, num_labels=num_labels)"
   ]
  },
  {
   "cell_type": "code",
   "execution_count": 12,
   "id": "e67da68f",
   "metadata": {},
   "outputs": [
    {
     "data": {
      "application/vnd.jupyter.widget-view+json": {
       "model_id": "bf63931114df40b38681e5bf9d986b15",
       "version_major": 2,
       "version_minor": 0
      },
      "text/plain": [
       "Downloading:   0%|          | 0.00/1.86k [00:00<?, ?B/s]"
      ]
     },
     "metadata": {},
     "output_type": "display_data"
    }
   ],
   "source": [
    "metric = load_metric(\"glue\", \"qnli\")"
   ]
  },
  {
   "cell_type": "code",
   "execution_count": 13,
   "id": "ce87d489",
   "metadata": {},
   "outputs": [],
   "source": [
    "def compute_metrics(eval_pred):\n",
    "    predictions, labels = eval_pred\n",
    "    predictions = np.argmax(predictions, axis=1)\n",
    "    return metric.compute(predictions=predictions, references=labels)"
   ]
  },
  {
   "cell_type": "code",
   "execution_count": 24,
   "id": "9001ec48",
   "metadata": {},
   "outputs": [
    {
     "name": "stderr",
     "output_type": "stream",
     "text": [
      "PyTorch: setting up devices\n",
      "The default value for the training argument `--report_to` will change in v5 (from all installed integrations to none). In v5, you will need to use `--report_to all` to get the same behavior as now. You should start updating your code and make this info disappear :-).\n"
     ]
    }
   ],
   "source": [
    "metric_name = \"accuracy\"\n",
    "\n",
    "# hyperparameters={'learning_rate': 7.941920339973838e-05, 'num_train_epochs': 1, 'seed': 27, 'per_device_train_batch_size': 64})\n",
    "\n",
    "args = TrainingArguments(\n",
    "    \"test-nli\",\n",
    "    evaluation_strategy=\"epoch\",\n",
    "    learning_rate = 7.941920339973838e-05,\n",
    "    per_device_train_batch_size=64,\n",
    "    per_device_eval_batch_size=32,\n",
    "    num_train_epochs=1,\n",
    "    weight_decay=0.01,\n",
    "    load_best_model_at_end=True,\n",
    "    metric_for_best_model=metric_name,\n",
    "    seed = 27\n",
    ")"
   ]
  },
  {
   "cell_type": "code",
   "execution_count": 25,
   "id": "2b425a9a",
   "metadata": {},
   "outputs": [],
   "source": [
    "def model_init():\n",
    "    return AutoModelForSequenceClassification.from_pretrained(model_checkpoint, num_labels=num_labels)"
   ]
  },
  {
   "cell_type": "code",
   "execution_count": 26,
   "id": "df203485",
   "metadata": {},
   "outputs": [
    {
     "name": "stdout",
     "output_type": "stream",
     "text": [
      "Requirement already satisfied: optuna in d:\\workspace\\dacon_news_topic_clasiification\\venv\\lib\\site-packages (2.8.0)\n",
      "Requirement already satisfied: numpy in d:\\workspace\\dacon_news_topic_clasiification\\venv\\lib\\site-packages (from optuna) (1.19.5)\n",
      "Requirement already satisfied: cmaes>=0.8.2 in d:\\workspace\\dacon_news_topic_clasiification\\venv\\lib\\site-packages (from optuna) (0.8.2)\n",
      "Requirement already satisfied: scipy!=1.4.0 in d:\\workspace\\dacon_news_topic_clasiification\\venv\\lib\\site-packages (from optuna) (1.7.0)\n",
      "Requirement already satisfied: packaging>=20.0 in d:\\workspace\\dacon_news_topic_clasiification\\venv\\lib\\site-packages (from optuna) (21.0)\n",
      "Requirement already satisfied: cliff in d:\\workspace\\dacon_news_topic_clasiification\\venv\\lib\\site-packages (from optuna) (3.8.0)\n",
      "Requirement already satisfied: sqlalchemy>=1.1.0 in d:\\workspace\\dacon_news_topic_clasiification\\venv\\lib\\site-packages (from optuna) (1.4.22)\n",
      "Requirement already satisfied: alembic in d:\\workspace\\dacon_news_topic_clasiification\\venv\\lib\\site-packages (from optuna) (1.6.5)\n",
      "Requirement already satisfied: colorlog in d:\\workspace\\dacon_news_topic_clasiification\\venv\\lib\\site-packages (from optuna) (5.0.1)\n",
      "Requirement already satisfied: tqdm in d:\\workspace\\dacon_news_topic_clasiification\\venv\\lib\\site-packages (from optuna) (4.61.2)\n",
      "Requirement already satisfied: pyparsing>=2.0.2 in d:\\workspace\\dacon_news_topic_clasiification\\venv\\lib\\site-packages (from packaging>=20.0->optuna) (2.4.7)\n",
      "Requirement already satisfied: greenlet!=0.4.17 in d:\\workspace\\dacon_news_topic_clasiification\\venv\\lib\\site-packages (from sqlalchemy>=1.1.0->optuna) (1.1.0)\n",
      "Requirement already satisfied: Mako in d:\\workspace\\dacon_news_topic_clasiification\\venv\\lib\\site-packages (from alembic->optuna) (1.1.4)\n",
      "Requirement already satisfied: python-editor>=0.3 in d:\\workspace\\dacon_news_topic_clasiification\\venv\\lib\\site-packages (from alembic->optuna) (1.0.4)\n",
      "Requirement already satisfied: python-dateutil in d:\\workspace\\dacon_news_topic_clasiification\\venv\\lib\\site-packages (from alembic->optuna) (2.8.2)\n",
      "Requirement already satisfied: pbr!=2.1.0,>=2.0.0 in d:\\workspace\\dacon_news_topic_clasiification\\venv\\lib\\site-packages (from cliff->optuna) (5.6.0)\n",
      "Requirement already satisfied: cmd2>=1.0.0 in d:\\workspace\\dacon_news_topic_clasiification\\venv\\lib\\site-packages (from cliff->optuna) (2.1.2)\n",
      "Requirement already satisfied: stevedore>=2.0.1 in d:\\workspace\\dacon_news_topic_clasiification\\venv\\lib\\site-packages (from cliff->optuna) (3.3.0)\n",
      "Requirement already satisfied: PrettyTable>=0.7.2 in d:\\workspace\\dacon_news_topic_clasiification\\venv\\lib\\site-packages (from cliff->optuna) (2.1.0)\n",
      "Requirement already satisfied: PyYAML>=3.12 in d:\\workspace\\dacon_news_topic_clasiification\\venv\\lib\\site-packages (from cliff->optuna) (5.4.1)\n",
      "Requirement already satisfied: pyreadline3 in d:\\workspace\\dacon_news_topic_clasiification\\venv\\lib\\site-packages (from cmd2>=1.0.0->cliff->optuna) (3.3)\n",
      "Requirement already satisfied: colorama>=0.3.7 in d:\\workspace\\dacon_news_topic_clasiification\\venv\\lib\\site-packages (from cmd2>=1.0.0->cliff->optuna) (0.4.4)\n",
      "Requirement already satisfied: pyperclip>=1.6 in d:\\workspace\\dacon_news_topic_clasiification\\venv\\lib\\site-packages (from cmd2>=1.0.0->cliff->optuna) (1.8.2)\n",
      "Requirement already satisfied: wcwidth>=0.1.7 in d:\\workspace\\dacon_news_topic_clasiification\\venv\\lib\\site-packages (from cmd2>=1.0.0->cliff->optuna) (0.2.5)\n",
      "Requirement already satisfied: attrs>=16.3.0 in d:\\workspace\\dacon_news_topic_clasiification\\venv\\lib\\site-packages (from cmd2>=1.0.0->cliff->optuna) (21.2.0)\n",
      "Requirement already satisfied: MarkupSafe>=0.9.2 in d:\\workspace\\dacon_news_topic_clasiification\\venv\\lib\\site-packages (from Mako->alembic->optuna) (2.0.1)\n",
      "Requirement already satisfied: six>=1.5 in d:\\workspace\\dacon_news_topic_clasiification\\venv\\lib\\site-packages (from python-dateutil->alembic->optuna) (1.15.0)\n"
     ]
    },
    {
     "name": "stderr",
     "output_type": "stream",
     "text": [
      "WARNING: You are using pip version 21.1.3; however, version 21.2.1 is available.\n",
      "You should consider upgrading via the 'd:\\workspace\\dacon_news_topic_clasiification\\venv\\scripts\\python.exe -m pip install --upgrade pip' command.\n"
     ]
    },
    {
     "name": "stdout",
     "output_type": "stream",
     "text": [
      "Requirement already satisfied: ray[tune] in d:\\workspace\\dacon_news_topic_clasiification\\venv\\lib\\site-packages (1.5.0)\n",
      "Requirement already satisfied: filelock in d:\\workspace\\dacon_news_topic_clasiification\\venv\\lib\\site-packages (from ray[tune]) (3.0.12)\n",
      "Requirement already satisfied: grpcio>=1.28.1 in d:\\workspace\\dacon_news_topic_clasiification\\venv\\lib\\site-packages (from ray[tune]) (1.34.1)\n",
      "Requirement already satisfied: aiohttp-cors in d:\\workspace\\dacon_news_topic_clasiification\\venv\\lib\\site-packages (from ray[tune]) (0.7.0)\n",
      "Requirement already satisfied: pydantic>=1.8 in d:\\workspace\\dacon_news_topic_clasiification\\venv\\lib\\site-packages (from ray[tune]) (1.8.2)\n",
      "Requirement already satisfied: aioredis in d:\\workspace\\dacon_news_topic_clasiification\\venv\\lib\\site-packages (from ray[tune]) (1.3.1)\n",
      "Requirement already satisfied: redis>=3.5.0 in d:\\workspace\\dacon_news_topic_clasiification\\venv\\lib\\site-packages (from ray[tune]) (3.5.3)\n",
      "Requirement already satisfied: jsonschema in d:\\workspace\\dacon_news_topic_clasiification\\venv\\lib\\site-packages (from ray[tune]) (3.2.0)\n",
      "Requirement already satisfied: protobuf>=3.15.3 in d:\\workspace\\dacon_news_topic_clasiification\\venv\\lib\\site-packages (from ray[tune]) (3.17.3)\n",
      "Requirement already satisfied: gpustat in d:\\workspace\\dacon_news_topic_clasiification\\venv\\lib\\site-packages (from ray[tune]) (0.6.0)\n",
      "Requirement already satisfied: requests in d:\\workspace\\dacon_news_topic_clasiification\\venv\\lib\\site-packages (from ray[tune]) (2.26.0)\n",
      "Requirement already satisfied: prometheus-client>=0.7.1 in d:\\workspace\\dacon_news_topic_clasiification\\venv\\lib\\site-packages (from ray[tune]) (0.11.0)\n",
      "Requirement already satisfied: py-spy>=0.2.0 in d:\\workspace\\dacon_news_topic_clasiification\\venv\\lib\\site-packages (from ray[tune]) (0.3.7)\n",
      "Requirement already satisfied: colorama in d:\\workspace\\dacon_news_topic_clasiification\\venv\\lib\\site-packages (from ray[tune]) (0.4.4)\n",
      "Requirement already satisfied: numpy>=1.19.3 in d:\\workspace\\dacon_news_topic_clasiification\\venv\\lib\\site-packages (from ray[tune]) (1.19.5)\n",
      "Requirement already satisfied: pyyaml in d:\\workspace\\dacon_news_topic_clasiification\\venv\\lib\\site-packages (from ray[tune]) (5.4.1)\n",
      "Requirement already satisfied: opencensus in d:\\workspace\\dacon_news_topic_clasiification\\venv\\lib\\site-packages (from ray[tune]) (0.7.13)\n",
      "Requirement already satisfied: click>=7.0 in d:\\workspace\\dacon_news_topic_clasiification\\venv\\lib\\site-packages (from ray[tune]) (8.0.1)\n",
      "Requirement already satisfied: aiohttp in d:\\workspace\\dacon_news_topic_clasiification\\venv\\lib\\site-packages (from ray[tune]) (3.7.4.post0)\n",
      "Requirement already satisfied: msgpack<2.0.0,>=1.0.0 in d:\\workspace\\dacon_news_topic_clasiification\\venv\\lib\\site-packages (from ray[tune]) (1.0.2)\n",
      "Requirement already satisfied: tabulate in d:\\workspace\\dacon_news_topic_clasiification\\venv\\lib\\site-packages (from ray[tune]) (0.8.9)\n",
      "Requirement already satisfied: tensorboardX>=1.9 in d:\\workspace\\dacon_news_topic_clasiification\\venv\\lib\\site-packages (from ray[tune]) (2.4)\n",
      "Requirement already satisfied: pandas in d:\\workspace\\dacon_news_topic_clasiification\\venv\\lib\\site-packages (from ray[tune]) (1.3.0)\n",
      "Requirement already satisfied: six>=1.5.2 in d:\\workspace\\dacon_news_topic_clasiification\\venv\\lib\\site-packages (from grpcio>=1.28.1->ray[tune]) (1.15.0)\n",
      "Requirement already satisfied: typing-extensions>=3.7.4.3 in d:\\workspace\\dacon_news_topic_clasiification\\venv\\lib\\site-packages (from pydantic>=1.8->ray[tune]) (3.7.4.3)\n",
      "Requirement already satisfied: async-timeout<4.0,>=3.0 in d:\\workspace\\dacon_news_topic_clasiification\\venv\\lib\\site-packages (from aiohttp->ray[tune]) (3.0.1)\n",
      "Requirement already satisfied: multidict<7.0,>=4.5 in d:\\workspace\\dacon_news_topic_clasiification\\venv\\lib\\site-packages (from aiohttp->ray[tune]) (5.1.0)\n",
      "Requirement already satisfied: attrs>=17.3.0 in d:\\workspace\\dacon_news_topic_clasiification\\venv\\lib\\site-packages (from aiohttp->ray[tune]) (21.2.0)\n",
      "Requirement already satisfied: yarl<2.0,>=1.0 in d:\\workspace\\dacon_news_topic_clasiification\\venv\\lib\\site-packages (from aiohttp->ray[tune]) (1.6.3)\n",
      "Requirement already satisfied: chardet<5.0,>=2.0 in d:\\workspace\\dacon_news_topic_clasiification\\venv\\lib\\site-packages (from aiohttp->ray[tune]) (4.0.0)\n",
      "Requirement already satisfied: idna>=2.0 in d:\\workspace\\dacon_news_topic_clasiification\\venv\\lib\\site-packages (from yarl<2.0,>=1.0->aiohttp->ray[tune]) (3.2)\n",
      "Requirement already satisfied: hiredis in d:\\workspace\\dacon_news_topic_clasiification\\venv\\lib\\site-packages (from aioredis->ray[tune]) (2.0.0)\n",
      "Requirement already satisfied: psutil in d:\\workspace\\dacon_news_topic_clasiification\\venv\\lib\\site-packages (from gpustat->ray[tune]) (5.8.0)\n",
      "Requirement already satisfied: blessings>=1.6 in d:\\workspace\\dacon_news_topic_clasiification\\venv\\lib\\site-packages (from gpustat->ray[tune]) (1.7)\n",
      "Requirement already satisfied: nvidia-ml-py3>=7.352.0 in d:\\workspace\\dacon_news_topic_clasiification\\venv\\lib\\site-packages (from gpustat->ray[tune]) (7.352.0)\n",
      "Requirement already satisfied: setuptools in d:\\workspace\\dacon_news_topic_clasiification\\venv\\lib\\site-packages (from jsonschema->ray[tune]) (56.0.0)\n",
      "Requirement already satisfied: pyrsistent>=0.14.0 in d:\\workspace\\dacon_news_topic_clasiification\\venv\\lib\\site-packages (from jsonschema->ray[tune]) (0.18.0)\n",
      "Requirement already satisfied: opencensus-context==0.1.2 in d:\\workspace\\dacon_news_topic_clasiification\\venv\\lib\\site-packages (from opencensus->ray[tune]) (0.1.2)\n",
      "Requirement already satisfied: google-api-core<2.0.0,>=1.0.0 in d:\\workspace\\dacon_news_topic_clasiification\\venv\\lib\\site-packages (from opencensus->ray[tune]) (1.31.1)\n",
      "Requirement already satisfied: google-auth<2.0dev,>=1.25.0 in d:\\workspace\\dacon_news_topic_clasiification\\venv\\lib\\site-packages (from google-api-core<2.0.0,>=1.0.0->opencensus->ray[tune]) (1.33.0)\n",
      "Requirement already satisfied: packaging>=14.3 in d:\\workspace\\dacon_news_topic_clasiification\\venv\\lib\\site-packages (from google-api-core<2.0.0,>=1.0.0->opencensus->ray[tune]) (21.0)\n",
      "Requirement already satisfied: googleapis-common-protos<2.0dev,>=1.6.0 in d:\\workspace\\dacon_news_topic_clasiification\\venv\\lib\\site-packages (from google-api-core<2.0.0,>=1.0.0->opencensus->ray[tune]) (1.53.0)\n",
      "Requirement already satisfied: pytz in d:\\workspace\\dacon_news_topic_clasiification\\venv\\lib\\site-packages (from google-api-core<2.0.0,>=1.0.0->opencensus->ray[tune]) (2021.1)\n",
      "Requirement already satisfied: pyasn1-modules>=0.2.1 in d:\\workspace\\dacon_news_topic_clasiification\\venv\\lib\\site-packages (from google-auth<2.0dev,>=1.25.0->google-api-core<2.0.0,>=1.0.0->opencensus->ray[tune]) (0.2.8)\n",
      "Requirement already satisfied: rsa<5,>=3.1.4 in d:\\workspace\\dacon_news_topic_clasiification\\venv\\lib\\site-packages (from google-auth<2.0dev,>=1.25.0->google-api-core<2.0.0,>=1.0.0->opencensus->ray[tune]) (4.7.2)\n",
      "Requirement already satisfied: cachetools<5.0,>=2.0.0 in d:\\workspace\\dacon_news_topic_clasiification\\venv\\lib\\site-packages (from google-auth<2.0dev,>=1.25.0->google-api-core<2.0.0,>=1.0.0->opencensus->ray[tune]) (4.2.2)\n",
      "Requirement already satisfied: pyparsing>=2.0.2 in d:\\workspace\\dacon_news_topic_clasiification\\venv\\lib\\site-packages (from packaging>=14.3->google-api-core<2.0.0,>=1.0.0->opencensus->ray[tune]) (2.4.7)\n",
      "Requirement already satisfied: pyasn1<0.5.0,>=0.4.6 in d:\\workspace\\dacon_news_topic_clasiification\\venv\\lib\\site-packages (from pyasn1-modules>=0.2.1->google-auth<2.0dev,>=1.25.0->google-api-core<2.0.0,>=1.0.0->opencensus->ray[tune]) (0.4.8)\n",
      "Requirement already satisfied: urllib3<1.27,>=1.21.1 in d:\\workspace\\dacon_news_topic_clasiification\\venv\\lib\\site-packages (from requests->ray[tune]) (1.26.6)\n",
      "Requirement already satisfied: charset-normalizer~=2.0.0 in d:\\workspace\\dacon_news_topic_clasiification\\venv\\lib\\site-packages (from requests->ray[tune]) (2.0.3)\n",
      "Requirement already satisfied: certifi>=2017.4.17 in d:\\workspace\\dacon_news_topic_clasiification\\venv\\lib\\site-packages (from requests->ray[tune]) (2021.5.30)\n",
      "Requirement already satisfied: python-dateutil>=2.7.3 in d:\\workspace\\dacon_news_topic_clasiification\\venv\\lib\\site-packages (from pandas->ray[tune]) (2.8.2)\n"
     ]
    },
    {
     "name": "stderr",
     "output_type": "stream",
     "text": [
      "WARNING: You are using pip version 21.1.3; however, version 21.2.1 is available.\n",
      "You should consider upgrading via the 'd:\\workspace\\dacon_news_topic_clasiification\\venv\\scripts\\python.exe -m pip install --upgrade pip' command.\n"
     ]
    }
   ],
   "source": [
    "# !pip install optuna\n",
    "# !pip install ray[tune]"
   ]
  },
  {
   "cell_type": "code",
   "execution_count": 27,
   "id": "768d62de",
   "metadata": {},
   "outputs": [
    {
     "name": "stderr",
     "output_type": "stream",
     "text": [
      "loading configuration file https://huggingface.co/klue/bert-base/resolve/main/config.json from cache at C:\\Users\\or7l0/.cache\\huggingface\\transformers\\fbd0b2ef898c4653902683fea8cc0dd99bf43f0e082645b913cda3b92429d1bb.7cee10e8ea7ffa278f8be4b141000263f2b18795e5ef5e025352b2af6851f8fb\n",
      "Model config BertConfig {\n",
      "  \"architectures\": [\n",
      "    \"BertForPretraining\"\n",
      "  ],\n",
      "  \"attention_probs_dropout_prob\": 0.1,\n",
      "  \"gradient_checkpointing\": false,\n",
      "  \"hidden_act\": \"gelu\",\n",
      "  \"hidden_dropout_prob\": 0.1,\n",
      "  \"hidden_size\": 768,\n",
      "  \"id2label\": {\n",
      "    \"0\": \"LABEL_0\",\n",
      "    \"1\": \"LABEL_1\",\n",
      "    \"2\": \"LABEL_2\",\n",
      "    \"3\": \"LABEL_3\",\n",
      "    \"4\": \"LABEL_4\",\n",
      "    \"5\": \"LABEL_5\",\n",
      "    \"6\": \"LABEL_6\"\n",
      "  },\n",
      "  \"initializer_range\": 0.02,\n",
      "  \"intermediate_size\": 3072,\n",
      "  \"label2id\": {\n",
      "    \"LABEL_0\": 0,\n",
      "    \"LABEL_1\": 1,\n",
      "    \"LABEL_2\": 2,\n",
      "    \"LABEL_3\": 3,\n",
      "    \"LABEL_4\": 4,\n",
      "    \"LABEL_5\": 5,\n",
      "    \"LABEL_6\": 6\n",
      "  },\n",
      "  \"layer_norm_eps\": 1e-12,\n",
      "  \"max_position_embeddings\": 512,\n",
      "  \"model_type\": \"bert\",\n",
      "  \"num_attention_heads\": 12,\n",
      "  \"num_hidden_layers\": 12,\n",
      "  \"pad_token_id\": 0,\n",
      "  \"position_embedding_type\": \"absolute\",\n",
      "  \"transformers_version\": \"4.8.2\",\n",
      "  \"type_vocab_size\": 2,\n",
      "  \"use_cache\": true,\n",
      "  \"vocab_size\": 32000\n",
      "}\n",
      "\n",
      "loading weights file https://huggingface.co/klue/bert-base/resolve/main/pytorch_model.bin from cache at C:\\Users\\or7l0/.cache\\huggingface\\transformers\\05b36ee62545d769939a7746eca739b844a40a7a7553700f110b58b28ed6a949.7cb231256a5dbe886e12b902d05cb1241f330d8c19428508f91b2b28c1cfe0b6\n",
      "Some weights of the model checkpoint at klue/bert-base were not used when initializing BertForSequenceClassification: ['cls.predictions.transform.LayerNorm.bias', 'cls.predictions.bias', 'cls.predictions.transform.dense.weight', 'cls.predictions.decoder.bias', 'cls.seq_relationship.weight', 'cls.predictions.transform.dense.bias', 'cls.predictions.decoder.weight', 'cls.seq_relationship.bias', 'cls.predictions.transform.LayerNorm.weight']\n",
      "- This IS expected if you are initializing BertForSequenceClassification from the checkpoint of a model trained on another task or with another architecture (e.g. initializing a BertForSequenceClassification model from a BertForPreTraining model).\n",
      "- This IS NOT expected if you are initializing BertForSequenceClassification from the checkpoint of a model that you expect to be exactly identical (initializing a BertForSequenceClassification model from a BertForSequenceClassification model).\n",
      "Some weights of BertForSequenceClassification were not initialized from the model checkpoint at klue/bert-base and are newly initialized: ['classifier.weight', 'classifier.bias']\n",
      "You should probably TRAIN this model on a down-stream task to be able to use it for predictions and inference.\n"
     ]
    }
   ],
   "source": [
    "trainer = Trainer(\n",
    "    model_init=model_init,\n",
    "    args=args,\n",
    "    train_dataset=data_train,\n",
    "    eval_dataset=data_val,\n",
    "    tokenizer=tokenizer,\n",
    "    compute_metrics=compute_metrics\n",
    ")"
   ]
  },
  {
   "cell_type": "code",
   "execution_count": 28,
   "id": "81d4cad8",
   "metadata": {},
   "outputs": [
    {
     "name": "stderr",
     "output_type": "stream",
     "text": [
      "loading configuration file https://huggingface.co/klue/bert-base/resolve/main/config.json from cache at C:\\Users\\or7l0/.cache\\huggingface\\transformers\\fbd0b2ef898c4653902683fea8cc0dd99bf43f0e082645b913cda3b92429d1bb.7cee10e8ea7ffa278f8be4b141000263f2b18795e5ef5e025352b2af6851f8fb\n",
      "Model config BertConfig {\n",
      "  \"architectures\": [\n",
      "    \"BertForPretraining\"\n",
      "  ],\n",
      "  \"attention_probs_dropout_prob\": 0.1,\n",
      "  \"gradient_checkpointing\": false,\n",
      "  \"hidden_act\": \"gelu\",\n",
      "  \"hidden_dropout_prob\": 0.1,\n",
      "  \"hidden_size\": 768,\n",
      "  \"id2label\": {\n",
      "    \"0\": \"LABEL_0\",\n",
      "    \"1\": \"LABEL_1\",\n",
      "    \"2\": \"LABEL_2\",\n",
      "    \"3\": \"LABEL_3\",\n",
      "    \"4\": \"LABEL_4\",\n",
      "    \"5\": \"LABEL_5\",\n",
      "    \"6\": \"LABEL_6\"\n",
      "  },\n",
      "  \"initializer_range\": 0.02,\n",
      "  \"intermediate_size\": 3072,\n",
      "  \"label2id\": {\n",
      "    \"LABEL_0\": 0,\n",
      "    \"LABEL_1\": 1,\n",
      "    \"LABEL_2\": 2,\n",
      "    \"LABEL_3\": 3,\n",
      "    \"LABEL_4\": 4,\n",
      "    \"LABEL_5\": 5,\n",
      "    \"LABEL_6\": 6\n",
      "  },\n",
      "  \"layer_norm_eps\": 1e-12,\n",
      "  \"max_position_embeddings\": 512,\n",
      "  \"model_type\": \"bert\",\n",
      "  \"num_attention_heads\": 12,\n",
      "  \"num_hidden_layers\": 12,\n",
      "  \"pad_token_id\": 0,\n",
      "  \"position_embedding_type\": \"absolute\",\n",
      "  \"transformers_version\": \"4.8.2\",\n",
      "  \"type_vocab_size\": 2,\n",
      "  \"use_cache\": true,\n",
      "  \"vocab_size\": 32000\n",
      "}\n",
      "\n",
      "loading weights file https://huggingface.co/klue/bert-base/resolve/main/pytorch_model.bin from cache at C:\\Users\\or7l0/.cache\\huggingface\\transformers\\05b36ee62545d769939a7746eca739b844a40a7a7553700f110b58b28ed6a949.7cb231256a5dbe886e12b902d05cb1241f330d8c19428508f91b2b28c1cfe0b6\n",
      "Some weights of the model checkpoint at klue/bert-base were not used when initializing BertForSequenceClassification: ['cls.predictions.transform.LayerNorm.bias', 'cls.predictions.bias', 'cls.predictions.transform.dense.weight', 'cls.predictions.decoder.bias', 'cls.seq_relationship.weight', 'cls.predictions.transform.dense.bias', 'cls.predictions.decoder.weight', 'cls.seq_relationship.bias', 'cls.predictions.transform.LayerNorm.weight']\n",
      "- This IS expected if you are initializing BertForSequenceClassification from the checkpoint of a model trained on another task or with another architecture (e.g. initializing a BertForSequenceClassification model from a BertForPreTraining model).\n",
      "- This IS NOT expected if you are initializing BertForSequenceClassification from the checkpoint of a model that you expect to be exactly identical (initializing a BertForSequenceClassification model from a BertForSequenceClassification model).\n",
      "Some weights of BertForSequenceClassification were not initialized from the model checkpoint at klue/bert-base and are newly initialized: ['classifier.weight', 'classifier.bias']\n",
      "You should probably TRAIN this model on a down-stream task to be able to use it for predictions and inference.\n",
      "***** Running training *****\n",
      "  Num examples = 36523\n",
      "  Num Epochs = 1\n",
      "  Instantaneous batch size per device = 64\n",
      "  Total train batch size (w. parallel, distributed & accumulation) = 64\n",
      "  Gradient Accumulation steps = 1\n",
      "  Total optimization steps = 571\n"
     ]
    },
    {
     "data": {
      "text/html": [
       "\n",
       "    <div>\n",
       "      \n",
       "      <progress value='571' max='571' style='width:300px; height:20px; vertical-align: middle;'></progress>\n",
       "      [571/571 01:43, Epoch 1/1]\n",
       "    </div>\n",
       "    <table border=\"1\" class=\"dataframe\">\n",
       "  <thead>\n",
       "    <tr style=\"text-align: left;\">\n",
       "      <th>Epoch</th>\n",
       "      <th>Training Loss</th>\n",
       "      <th>Validation Loss</th>\n",
       "      <th>Accuracy</th>\n",
       "    </tr>\n",
       "  </thead>\n",
       "  <tbody>\n",
       "    <tr>\n",
       "      <td>1</td>\n",
       "      <td>0.403800</td>\n",
       "      <td>0.312155</td>\n",
       "      <td>0.889278</td>\n",
       "    </tr>\n",
       "  </tbody>\n",
       "</table><p>"
      ],
      "text/plain": [
       "<IPython.core.display.HTML object>"
      ]
     },
     "metadata": {},
     "output_type": "display_data"
    },
    {
     "name": "stderr",
     "output_type": "stream",
     "text": [
      "***** Running Evaluation *****\n",
      "  Num examples = 9131\n",
      "  Batch size = 32\n",
      "Saving model checkpoint to test-nli\\checkpoint-571\n",
      "Configuration saved in test-nli\\checkpoint-571\\config.json\n",
      "Model weights saved in test-nli\\checkpoint-571\\pytorch_model.bin\n",
      "tokenizer config file saved in test-nli\\checkpoint-571\\tokenizer_config.json\n",
      "Special tokens file saved in test-nli\\checkpoint-571\\special_tokens_map.json\n",
      "\n",
      "\n",
      "Training completed. Do not forget to share your model on huggingface.co/models =)\n",
      "\n",
      "\n",
      "Loading best model from test-nli\\checkpoint-571 (score: 0.8892782827729712).\n"
     ]
    },
    {
     "data": {
      "text/plain": [
       "TrainOutput(global_step=571, training_loss=0.39248722697723976, metrics={'train_runtime': 103.8896, 'train_samples_per_second': 351.556, 'train_steps_per_second': 5.496, 'total_flos': 552743048864550.0, 'train_loss': 0.39248722697723976, 'epoch': 1.0})"
      ]
     },
     "execution_count": 28,
     "metadata": {},
     "output_type": "execute_result"
    }
   ],
   "source": [
    "trainer.train()"
   ]
  },
  {
   "cell_type": "code",
   "execution_count": 30,
   "id": "f2fdc3f2",
   "metadata": {},
   "outputs": [
    {
     "name": "stderr",
     "output_type": "stream",
     "text": [
      "***** Running Evaluation *****\n",
      "  Num examples = 9131\n",
      "  Batch size = 32\n"
     ]
    },
    {
     "data": {
      "text/html": [
       "\n",
       "    <div>\n",
       "      \n",
       "      <progress value='858' max='286' style='width:300px; height:20px; vertical-align: middle;'></progress>\n",
       "      [286/286 01:12]\n",
       "    </div>\n",
       "    "
      ],
      "text/plain": [
       "<IPython.core.display.HTML object>"
      ]
     },
     "metadata": {},
     "output_type": "display_data"
    },
    {
     "data": {
      "text/plain": [
       "{'eval_loss': 0.3121548295021057,\n",
       " 'eval_accuracy': 0.8892782827729712,\n",
       " 'eval_runtime': 7.6371,\n",
       " 'eval_samples_per_second': 1195.61,\n",
       " 'eval_steps_per_second': 37.449,\n",
       " 'epoch': 1.0}"
      ]
     },
     "execution_count": 30,
     "metadata": {},
     "output_type": "execute_result"
    }
   ],
   "source": [
    "trainer.evaluate()"
   ]
  },
  {
   "cell_type": "code",
   "execution_count": 32,
   "id": "86cf078c",
   "metadata": {},
   "outputs": [
    {
     "name": "stderr",
     "output_type": "stream",
     "text": [
      "***** Running Prediction *****\n",
      "  Num examples = 9131\n",
      "  Batch size = 32\n"
     ]
    }
   ],
   "source": [
    "pred = trainer.predict(data_test)\n",
    "pred = pred[0]\n",
    "pred = np.argmax(pred,1)\n",
    "submission = pd.read_csv('data/sample_submission.csv')\n",
    "submission['topic_idx'] = pred\n",
    "submission.to_csv(\"results/klue-bert-hyperparameter-tuning-2.csv\",index=False)"
   ]
  },
  {
   "cell_type": "code",
   "execution_count": null,
   "id": "1ac2aea0",
   "metadata": {},
   "outputs": [],
   "source": []
  }
 ],
 "metadata": {
  "kernelspec": {
   "display_name": "Python 3 (ipykernel)",
   "language": "python",
   "name": "python3"
  },
  "language_info": {
   "codemirror_mode": {
    "name": "ipython",
    "version": 3
   },
   "file_extension": ".py",
   "mimetype": "text/x-python",
   "name": "python",
   "nbconvert_exporter": "python",
   "pygments_lexer": "ipython3",
   "version": "3.9.6"
  }
 },
 "nbformat": 4,
 "nbformat_minor": 5
}
