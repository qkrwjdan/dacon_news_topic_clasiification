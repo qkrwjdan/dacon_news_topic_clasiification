{
 "cells": [
  {
   "cell_type": "markdown",
   "id": "02327927",
   "metadata": {},
   "source": [
    "# Data Augmentation\n",
    "\n",
    "좋은 품질의 데이터가 많을수록 모델의 정확도가 향상된다.   \n",
    "신경망을 학습시키기 위한 좋은 품질의 데이터가 부족할 때 기존의 데이터를 변형하여 데이터의 숫자를 증가시킬 수 있다.  \n",
    "Data Augmentation을 사용하면 기존의 모델보다 약간의 정확도를 높일 수 있지 않을까?\n"
   ]
  },
  {
   "cell_type": "code",
   "execution_count": null,
   "id": "52ab5399",
   "metadata": {},
   "outputs": [],
   "source": [
    "import pandas as pd\n",
    "import numpy as np\n",
    "import random\n",
    "\n",
    "from transformers import AutoTokenizer"
   ]
  },
  {
   "cell_type": "code",
   "execution_count": 2,
   "id": "c3581907",
   "metadata": {},
   "outputs": [],
   "source": [
    "train = pd.read_csv(\"data/train_data.csv\")"
   ]
  },
  {
   "cell_type": "code",
   "execution_count": 3,
   "id": "3f9e9334",
   "metadata": {},
   "outputs": [
    {
     "data": {
      "text/html": [
       "<div>\n",
       "<style scoped>\n",
       "    .dataframe tbody tr th:only-of-type {\n",
       "        vertical-align: middle;\n",
       "    }\n",
       "\n",
       "    .dataframe tbody tr th {\n",
       "        vertical-align: top;\n",
       "    }\n",
       "\n",
       "    .dataframe thead th {\n",
       "        text-align: right;\n",
       "    }\n",
       "</style>\n",
       "<table border=\"1\" class=\"dataframe\">\n",
       "  <thead>\n",
       "    <tr style=\"text-align: right;\">\n",
       "      <th></th>\n",
       "      <th>index</th>\n",
       "      <th>title</th>\n",
       "      <th>topic_idx</th>\n",
       "    </tr>\n",
       "  </thead>\n",
       "  <tbody>\n",
       "    <tr>\n",
       "      <th>0</th>\n",
       "      <td>0</td>\n",
       "      <td>인천→핀란드 항공기 결항…휴가철 여행객 분통</td>\n",
       "      <td>4</td>\n",
       "    </tr>\n",
       "    <tr>\n",
       "      <th>1</th>\n",
       "      <td>1</td>\n",
       "      <td>실리콘밸리 넘어서겠다…구글 15조원 들여 美전역 거점화</td>\n",
       "      <td>4</td>\n",
       "    </tr>\n",
       "    <tr>\n",
       "      <th>2</th>\n",
       "      <td>2</td>\n",
       "      <td>이란 외무 긴장완화 해결책은 미국이 경제전쟁 멈추는 것</td>\n",
       "      <td>4</td>\n",
       "    </tr>\n",
       "    <tr>\n",
       "      <th>3</th>\n",
       "      <td>3</td>\n",
       "      <td>NYT 클린턴 측근韓기업 특수관계 조명…공과 사 맞물려종합</td>\n",
       "      <td>4</td>\n",
       "    </tr>\n",
       "    <tr>\n",
       "      <th>4</th>\n",
       "      <td>4</td>\n",
       "      <td>시진핑 트럼프에 중미 무역협상 조속 타결 희망</td>\n",
       "      <td>4</td>\n",
       "    </tr>\n",
       "  </tbody>\n",
       "</table>\n",
       "</div>"
      ],
      "text/plain": [
       "   index                             title  topic_idx\n",
       "0      0          인천→핀란드 항공기 결항…휴가철 여행객 분통          4\n",
       "1      1    실리콘밸리 넘어서겠다…구글 15조원 들여 美전역 거점화          4\n",
       "2      2    이란 외무 긴장완화 해결책은 미국이 경제전쟁 멈추는 것          4\n",
       "3      3  NYT 클린턴 측근韓기업 특수관계 조명…공과 사 맞물려종합          4\n",
       "4      4         시진핑 트럼프에 중미 무역협상 조속 타결 희망          4"
      ]
     },
     "execution_count": 3,
     "metadata": {},
     "output_type": "execute_result"
    }
   ],
   "source": [
    "train.head()"
   ]
  },
  {
   "cell_type": "markdown",
   "id": "a4ab44e9",
   "metadata": {},
   "source": [
    "텍스트 데이터를 augmentation하는 방법에는 다음과 같은 방법이 있다.  \n",
    "1. SR ( Synonynm Replace ) : 특정 단어를 유의어로 교체한다. \n",
    "2. RI ( Random Insertion ) : 특정 단어를 임의로 넣는다.\n",
    "3. RD ( Random Deletion ) : 특정 단어를 임의로 제거한다. \n",
    "4. RS ( Random Swap ) : 특정 단어들의 위치를 임의로 바꾼다."
   ]
  },
  {
   "cell_type": "markdown",
   "id": "92abd9b2",
   "metadata": {},
   "source": [
    "구글링을 하다가 텍스트 데이터 augmentation을 쉽게 적용할 수 있도록 정리된 코드를 발견하여 참고했다.  \n",
    "https://github.com/catSirup/KorEDA"
   ]
  },
  {
   "cell_type": "markdown",
   "id": "0d01f00d",
   "metadata": {},
   "source": [
    "SR과 RI 같은 경우 RD와 RS에 비해서 문장의 의미가 바뀔 가능성이 높기 때문에.  \n",
    "이번 대회에서는 RD와 RS를 사용하여 테스트를 했다.  \n",
    "문장을 토큰화하기 위해서 Klue/bert-base의 Tokenizer를 사용했다. "
   ]
  },
  {
   "cell_type": "code",
   "execution_count": 9,
   "id": "e72b87ed",
   "metadata": {},
   "outputs": [],
   "source": [
    "model_checkpoint = \"klue/bert-base\"\n",
    "tokenizer = AutoTokenizer.from_pretrained(model_checkpoint, use_fast=True)"
   ]
  },
  {
   "cell_type": "code",
   "execution_count": 29,
   "id": "84fc4291",
   "metadata": {},
   "outputs": [
    {
     "name": "stdout",
     "output_type": "stream",
     "text": [
      "['안녕', '##하', '##세요', '.']\n",
      "안녕하세요.\n"
     ]
    }
   ],
   "source": [
    "test_sentence = \"안녕하세요.\"\n",
    "print(tokenizer.tokenize(test_sentence))\n",
    "test_token = ['안녕', '##하', '##세요', '.']\n",
    "print(tokenizer.convert_tokens_to_string(test_token))"
   ]
  },
  {
   "cell_type": "markdown",
   "id": "d3c1d16a",
   "metadata": {},
   "source": [
    "## Random Deletion"
   ]
  },
  {
   "cell_type": "code",
   "execution_count": 12,
   "id": "1694944a",
   "metadata": {},
   "outputs": [],
   "source": [
    "train[\"tokenized\"] = [tokenizer.tokenize(sentence) for sentence in train[\"title\"]]"
   ]
  },
  {
   "cell_type": "code",
   "execution_count": 13,
   "id": "778f466b",
   "metadata": {},
   "outputs": [
    {
     "data": {
      "text/html": [
       "<div>\n",
       "<style scoped>\n",
       "    .dataframe tbody tr th:only-of-type {\n",
       "        vertical-align: middle;\n",
       "    }\n",
       "\n",
       "    .dataframe tbody tr th {\n",
       "        vertical-align: top;\n",
       "    }\n",
       "\n",
       "    .dataframe thead th {\n",
       "        text-align: right;\n",
       "    }\n",
       "</style>\n",
       "<table border=\"1\" class=\"dataframe\">\n",
       "  <thead>\n",
       "    <tr style=\"text-align: right;\">\n",
       "      <th></th>\n",
       "      <th>index</th>\n",
       "      <th>title</th>\n",
       "      <th>topic_idx</th>\n",
       "      <th>tokenized</th>\n",
       "    </tr>\n",
       "  </thead>\n",
       "  <tbody>\n",
       "    <tr>\n",
       "      <th>0</th>\n",
       "      <td>0</td>\n",
       "      <td>인천→핀란드 항공기 결항…휴가철 여행객 분통</td>\n",
       "      <td>4</td>\n",
       "      <td>[인천, ##→, ##핀, ##란드, 항공기, 결, ##항, …, 휴가철, 여행객,...</td>\n",
       "    </tr>\n",
       "    <tr>\n",
       "      <th>1</th>\n",
       "      <td>1</td>\n",
       "      <td>실리콘밸리 넘어서겠다…구글 15조원 들여 美전역 거점화</td>\n",
       "      <td>4</td>\n",
       "      <td>[실리콘밸리, 넘어서, ##겠다, …, 구글, 15, ##조, ##원, 들여, 美,...</td>\n",
       "    </tr>\n",
       "    <tr>\n",
       "      <th>2</th>\n",
       "      <td>2</td>\n",
       "      <td>이란 외무 긴장완화 해결책은 미국이 경제전쟁 멈추는 것</td>\n",
       "      <td>4</td>\n",
       "      <td>[이란, 외무, 긴장, ##완, ##화, 해결책, ##은, 미국, ##이, 경제, ...</td>\n",
       "    </tr>\n",
       "    <tr>\n",
       "      <th>3</th>\n",
       "      <td>3</td>\n",
       "      <td>NYT 클린턴 측근韓기업 특수관계 조명…공과 사 맞물려종합</td>\n",
       "      <td>4</td>\n",
       "      <td>[NYT, 클린턴, 측근, 韓, 기업, 특수, ##관계, 조명, …, 공과, 사, ...</td>\n",
       "    </tr>\n",
       "    <tr>\n",
       "      <th>4</th>\n",
       "      <td>4</td>\n",
       "      <td>시진핑 트럼프에 중미 무역협상 조속 타결 희망</td>\n",
       "      <td>4</td>\n",
       "      <td>[시진핑, 트럼프, ##에, 중, ##미, 무역, ##협, ##상, 조속, 타결, 희망]</td>\n",
       "    </tr>\n",
       "  </tbody>\n",
       "</table>\n",
       "</div>"
      ],
      "text/plain": [
       "   index                             title  topic_idx  \\\n",
       "0      0          인천→핀란드 항공기 결항…휴가철 여행객 분통          4   \n",
       "1      1    실리콘밸리 넘어서겠다…구글 15조원 들여 美전역 거점화          4   \n",
       "2      2    이란 외무 긴장완화 해결책은 미국이 경제전쟁 멈추는 것          4   \n",
       "3      3  NYT 클린턴 측근韓기업 특수관계 조명…공과 사 맞물려종합          4   \n",
       "4      4         시진핑 트럼프에 중미 무역협상 조속 타결 희망          4   \n",
       "\n",
       "                                           tokenized  \n",
       "0  [인천, ##→, ##핀, ##란드, 항공기, 결, ##항, …, 휴가철, 여행객,...  \n",
       "1  [실리콘밸리, 넘어서, ##겠다, …, 구글, 15, ##조, ##원, 들여, 美,...  \n",
       "2  [이란, 외무, 긴장, ##완, ##화, 해결책, ##은, 미국, ##이, 경제, ...  \n",
       "3  [NYT, 클린턴, 측근, 韓, 기업, 특수, ##관계, 조명, …, 공과, 사, ...  \n",
       "4  [시진핑, 트럼프, ##에, 중, ##미, 무역, ##협, ##상, 조속, 타결, 희망]  "
      ]
     },
     "execution_count": 13,
     "metadata": {},
     "output_type": "execute_result"
    }
   ],
   "source": [
    "train.head()"
   ]
  },
  {
   "cell_type": "markdown",
   "id": "5a717f93",
   "metadata": {},
   "source": [
    "random_deletion 함수를 정의한다.  \n",
    "p는 문장에서 임의의 단어를 삭제할 확률이다."
   ]
  },
  {
   "cell_type": "code",
   "execution_count": 15,
   "id": "dc5eef79",
   "metadata": {},
   "outputs": [],
   "source": [
    "def random_deletion(words, p):\n",
    "    if len(words) == 1:\n",
    "        return words\n",
    "\n",
    "    new_words = []\n",
    "    for word in words:\n",
    "        r = random.uniform(0, 1)\n",
    "        if r > p:\n",
    "            new_words.append(word)\n",
    "\n",
    "    if len(new_words) == 0:\n",
    "        rand_int = random.randint(0, len(words)-1)\n",
    "        return [words[rand_int]]\n",
    "\n",
    "    return new_words"
   ]
  },
  {
   "cell_type": "code",
   "execution_count": 16,
   "id": "e583d85c",
   "metadata": {},
   "outputs": [],
   "source": [
    "rd = [random_deletion(tokenized,0.2) for tokenized in train.tokenized]"
   ]
  },
  {
   "cell_type": "markdown",
   "id": "9198c260",
   "metadata": {},
   "source": [
    "임의의 단어들이 삭제가 되었다."
   ]
  },
  {
   "cell_type": "code",
   "execution_count": 38,
   "id": "06c8c63b",
   "metadata": {},
   "outputs": [
    {
     "data": {
      "text/plain": [
       "[['인천', '##→', '##핀', '##란드', '항공기', '##항', '분통'],\n",
       " ['실리콘밸리', '넘어서', '##조', '들여', '전역', '거점'],\n",
       " ['외무', '긴장', '해결책', '##은', '미국', '##이', '경제', '멈추', '##는', '것']]"
      ]
     },
     "execution_count": 38,
     "metadata": {},
     "output_type": "execute_result"
    }
   ],
   "source": [
    "rd[:3]"
   ]
  },
  {
   "cell_type": "markdown",
   "id": "fa804654",
   "metadata": {},
   "source": [
    "Augmentation을 수행한 데이터들은 저장해놓고 다음 학습에서 사용하자."
   ]
  },
  {
   "cell_type": "code",
   "execution_count": 32,
   "id": "db919f2b",
   "metadata": {},
   "outputs": [],
   "source": [
    "rd_augmentation = pd.DataFrame({'augmented' : rd, 'topic_idx': train.topic_idx})\n",
    "rd_augmentation.to_csv(\"data/train_rd_augmentation.csv\")"
   ]
  },
  {
   "cell_type": "markdown",
   "id": "1862a8dc",
   "metadata": {},
   "source": [
    "## Random Swap"
   ]
  },
  {
   "cell_type": "code",
   "execution_count": 33,
   "id": "870c679f",
   "metadata": {},
   "outputs": [
    {
     "data": {
      "text/html": [
       "<div>\n",
       "<style scoped>\n",
       "    .dataframe tbody tr th:only-of-type {\n",
       "        vertical-align: middle;\n",
       "    }\n",
       "\n",
       "    .dataframe tbody tr th {\n",
       "        vertical-align: top;\n",
       "    }\n",
       "\n",
       "    .dataframe thead th {\n",
       "        text-align: right;\n",
       "    }\n",
       "</style>\n",
       "<table border=\"1\" class=\"dataframe\">\n",
       "  <thead>\n",
       "    <tr style=\"text-align: right;\">\n",
       "      <th></th>\n",
       "      <th>index</th>\n",
       "      <th>title</th>\n",
       "      <th>topic_idx</th>\n",
       "      <th>tokenized</th>\n",
       "    </tr>\n",
       "  </thead>\n",
       "  <tbody>\n",
       "    <tr>\n",
       "      <th>0</th>\n",
       "      <td>0</td>\n",
       "      <td>인천→핀란드 항공기 결항…휴가철 여행객 분통</td>\n",
       "      <td>4</td>\n",
       "      <td>[인천, ##→, ##핀, ##란드, 항공기, 결, ##항, …, 휴가철, 여행객,...</td>\n",
       "    </tr>\n",
       "    <tr>\n",
       "      <th>1</th>\n",
       "      <td>1</td>\n",
       "      <td>실리콘밸리 넘어서겠다…구글 15조원 들여 美전역 거점화</td>\n",
       "      <td>4</td>\n",
       "      <td>[실리콘밸리, 넘어서, ##겠다, …, 구글, 15, ##조, ##원, 들여, 美,...</td>\n",
       "    </tr>\n",
       "    <tr>\n",
       "      <th>2</th>\n",
       "      <td>2</td>\n",
       "      <td>이란 외무 긴장완화 해결책은 미국이 경제전쟁 멈추는 것</td>\n",
       "      <td>4</td>\n",
       "      <td>[이란, 외무, 긴장, ##완, ##화, 해결책, ##은, 미국, ##이, 경제, ...</td>\n",
       "    </tr>\n",
       "    <tr>\n",
       "      <th>3</th>\n",
       "      <td>3</td>\n",
       "      <td>NYT 클린턴 측근韓기업 특수관계 조명…공과 사 맞물려종합</td>\n",
       "      <td>4</td>\n",
       "      <td>[NYT, 클린턴, 측근, 韓, 기업, 특수, ##관계, 조명, …, 공과, 사, ...</td>\n",
       "    </tr>\n",
       "    <tr>\n",
       "      <th>4</th>\n",
       "      <td>4</td>\n",
       "      <td>시진핑 트럼프에 중미 무역협상 조속 타결 희망</td>\n",
       "      <td>4</td>\n",
       "      <td>[시진핑, 트럼프, ##에, 중, ##미, 무역, ##협, ##상, 조속, 타결, 희망]</td>\n",
       "    </tr>\n",
       "  </tbody>\n",
       "</table>\n",
       "</div>"
      ],
      "text/plain": [
       "   index                             title  topic_idx  \\\n",
       "0      0          인천→핀란드 항공기 결항…휴가철 여행객 분통          4   \n",
       "1      1    실리콘밸리 넘어서겠다…구글 15조원 들여 美전역 거점화          4   \n",
       "2      2    이란 외무 긴장완화 해결책은 미국이 경제전쟁 멈추는 것          4   \n",
       "3      3  NYT 클린턴 측근韓기업 특수관계 조명…공과 사 맞물려종합          4   \n",
       "4      4         시진핑 트럼프에 중미 무역협상 조속 타결 희망          4   \n",
       "\n",
       "                                           tokenized  \n",
       "0  [인천, ##→, ##핀, ##란드, 항공기, 결, ##항, …, 휴가철, 여행객,...  \n",
       "1  [실리콘밸리, 넘어서, ##겠다, …, 구글, 15, ##조, ##원, 들여, 美,...  \n",
       "2  [이란, 외무, 긴장, ##완, ##화, 해결책, ##은, 미국, ##이, 경제, ...  \n",
       "3  [NYT, 클린턴, 측근, 韓, 기업, 특수, ##관계, 조명, …, 공과, 사, ...  \n",
       "4  [시진핑, 트럼프, ##에, 중, ##미, 무역, ##협, ##상, 조속, 타결, 희망]  "
      ]
     },
     "execution_count": 33,
     "metadata": {},
     "output_type": "execute_result"
    }
   ],
   "source": [
    "train.head()"
   ]
  },
  {
   "cell_type": "markdown",
   "id": "8d9a3485",
   "metadata": {},
   "source": [
    "random_swap 함수를 정의한다.  \n",
    "p는 문장에서 임의의 단어를 교체할 확률이다."
   ]
  },
  {
   "cell_type": "code",
   "execution_count": 34,
   "id": "db7808e7",
   "metadata": {},
   "outputs": [],
   "source": [
    "def random_swap(words, n):\n",
    "    new_words = words.copy()\n",
    "    for _ in range(n):\n",
    "        new_words = swap_word(new_words)\n",
    "\n",
    "    return new_words\n",
    "\n",
    "def swap_word(new_words):\n",
    "    random_idx_1 = random.randint(0, len(new_words)-1)\n",
    "    random_idx_2 = random_idx_1\n",
    "    counter = 0\n",
    "\n",
    "    while random_idx_2 == random_idx_1:\n",
    "        random_idx_2 = random.randint(0, len(new_words)-1)\n",
    "        counter += 1\n",
    "        if counter > 3:\n",
    "            return new_words\n",
    "\n",
    "    new_words[random_idx_1], new_words[random_idx_2] = new_words[random_idx_2], new_words[random_idx_1]\n",
    "    return new_words"
   ]
  },
  {
   "cell_type": "markdown",
   "id": "7b728506",
   "metadata": {},
   "source": [
    "아까 tokenize한 데이터들을 다시 사용하여 RS를 수행한다."
   ]
  },
  {
   "cell_type": "code",
   "execution_count": 35,
   "id": "87e6c040",
   "metadata": {},
   "outputs": [],
   "source": [
    "rs = [random_swap(tokenized,2) for tokenized in train.tokenized]"
   ]
  },
  {
   "cell_type": "code",
   "execution_count": 37,
   "id": "df866c80",
   "metadata": {},
   "outputs": [
    {
     "data": {
      "text/plain": [
       "[['인천', '휴가철', '##핀', '##→', '항공기', '결', '##항', '…', '##란드', '여행객', '분통'],\n",
       " ['실리콘밸리',\n",
       "  '넘어서',\n",
       "  '##겠다',\n",
       "  '##조',\n",
       "  '구글',\n",
       "  '15',\n",
       "  '…',\n",
       "  '##원',\n",
       "  '들여',\n",
       "  '美',\n",
       "  '거점',\n",
       "  '전역',\n",
       "  '##화'],\n",
       " ['이란',\n",
       "  '외무',\n",
       "  '긴장',\n",
       "  '##완',\n",
       "  '##는',\n",
       "  '해결책',\n",
       "  '##은',\n",
       "  '미국',\n",
       "  '##이',\n",
       "  '경제',\n",
       "  '멈추',\n",
       "  '##전쟁',\n",
       "  '##화',\n",
       "  '것']]"
      ]
     },
     "execution_count": 37,
     "metadata": {},
     "output_type": "execute_result"
    }
   ],
   "source": [
    "rs[:3]"
   ]
  },
  {
   "cell_type": "markdown",
   "id": "e622e132",
   "metadata": {},
   "source": [
    "이 데이터도 나중에 학습에 사용하도록 한다. "
   ]
  },
  {
   "cell_type": "code",
   "execution_count": 39,
   "id": "340b5d78",
   "metadata": {},
   "outputs": [],
   "source": [
    "rs_augmentation = pd.DataFrame({'augmented' : rd, 'topic_idx': train.topic_idx})\n",
    "rs_augmentation.to_csv(\"data/train_rs_augmentation.csv\")"
   ]
  },
  {
   "cell_type": "code",
   "execution_count": null,
   "id": "47747641",
   "metadata": {},
   "outputs": [],
   "source": []
  }
 ],
 "metadata": {
  "kernelspec": {
   "display_name": "Python 3 (ipykernel)",
   "language": "python",
   "name": "python3"
  },
  "language_info": {
   "codemirror_mode": {
    "name": "ipython",
    "version": 3
   },
   "file_extension": ".py",
   "mimetype": "text/x-python",
   "name": "python",
   "nbconvert_exporter": "python",
   "pygments_lexer": "ipython3",
   "version": "3.9.6"
  }
 },
 "nbformat": 4,
 "nbformat_minor": 5
}
