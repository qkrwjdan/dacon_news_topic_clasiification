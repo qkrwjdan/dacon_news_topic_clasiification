{
 "cells": [
  {
   "cell_type": "code",
   "execution_count": 1,
   "id": "f1843979",
   "metadata": {},
   "outputs": [],
   "source": [
    "import pandas as pd\n",
    "import matplotlib.pyplot as plt\n",
    "%matplotlib inline\n",
    "import matplotlib.font_manager as fm\n",
    "import warnings\n",
    "warnings.filterwarnings(action='ignore')\n",
    "\n",
    "fm.get_fontconfig_fonts()\n",
    "font_location = '/usr/share/fonts/truetype/nanum/NanumGothicCoding.ttf'\n",
    "fprop = fm.FontProperties(fname=font_location)\n",
    "\n",
    "\n",
    "train = pd.read_csv(\"data/train_data.csv\",encoding=\"utf-8\",index_col=False)\n",
    "test = pd.read_csv(\"data/test_data.csv\",index_col=False)"
   ]
  },
  {
   "cell_type": "code",
   "execution_count": 2,
   "id": "529aed6c",
   "metadata": {},
   "outputs": [
    {
     "data": {
      "text/plain": [
       "[('셰이크 살만 AFC 회장 평양 방문…최휘 국가체육지도위원장...', 4),\n",
       " ('데얀·김치우 OUT 조영욱 IN…서울 과감한 재건 성과...', 5),\n",
       " ('아시안게임 만리장성 맞서는 농구 단일팀 이문규 감독...', 5),\n",
       " ('한화 4천20일 만의 PS vs 넥센 4년 만의 PO...', 5),\n",
       " ('아시안게임 경기장 잔디 점검한 김학범 중동팀에 유리한...', 5),\n",
       " ('아가메즈·비예나 등 V리그 외국인 선수 대거 입국…KOVO...', 5),\n",
       " ('1보 류현진 한국인 첫 MLB 올스타전 선발로 1이닝...', 5),\n",
       " ('아시안게임 여자축구 전가을 황금세대 책임감으로 새 역...', 5),\n",
       " ('프로농구 KBL 음주 운전 kt 박철호에 36경기 출전 ...', 5),\n",
       " ('먼저 2승 최태웅 감독 우승 기회 왔다. 철저히 준비...', 5)]"
      ]
     },
     "execution_count": 2,
     "metadata": {},
     "output_type": "execute_result"
    }
   ],
   "source": [
    "three_dot_in_sentence = []\n",
    "for sentence, label in zip(train['title'],train['topic_idx']):\n",
    "    if \"...\" in sentence:\n",
    "#         print(sentence)\n",
    "        three_dot_in_sentence.append((sentence,label))\n",
    "        \n",
    "three_dot_in_sentence[:10]"
   ]
  },
  {
   "cell_type": "code",
   "execution_count": 3,
   "id": "b0439227",
   "metadata": {},
   "outputs": [
    {
     "name": "stdout",
     "output_type": "stream",
     "text": [
      "셰이크 살만 AFC 회장 평양 방문…최휘 국가체육지도위원장... 4\n",
      "셰이크 살만 AFC 회장 평양 방문…北 방북목적 등 언급... 4\n",
      "영화 봄 여름 가을 겨울 그리고... 봄을 현대무용으로 옮기다. 3\n",
      "MLB스카우트 몰고 다니는 린드블럼 미국 진출 내 의지... 4\n",
      "15년 만에 외국인 챔피언전 MVP 화이트 팀 우승만 신... 4\n",
      "프랑스 마크롱 대통령 PSG회장에게 축하 좋은 소식 있... 4\n",
      "검찰 조국 재소환 후 신병처리 검토...동생은 오늘 기소 2\n",
      "송파구 건물 옥상 화재...인명피해 없어 2\n",
      "인종 장벽 허문 로빈슨 탄생 100년…살아있으면 분노... 2\n",
      "최강한파 대구 낮 최고 기온 영하 7.6도...83년만에 가장 낮아 3\n",
      "터키 갈라타사라이 홈 록키 그림 응원현수막이 테러 메... 4\n",
      "중계권 수입 증가 EPL 에이전트 지급액도 한해 2천억... 1\n",
      "통일농구 방북단 평양行…조명균 평화 진전 계기 됐으면... 6\n",
      "이면도로에 쌓인 눈... 출근길 조심하세요 3\n",
      "유리천장 깬 박미희 감독 그냥 엄마 말고 강한 엄마 ... 3\n",
      "MLB 인종장벽 허문 재키 로빈슨 첫 계약서 경매…57억원... 1\n",
      "총에 맞은 오티스 보스턴 구단 비행기로 미국 이송…입원 ... 4\n",
      "통일농구 선수단 평양도착…北 열렬히 축하…만날수록 정 통... 6\n",
      "토종 거포 서재덕 공익 근무 시작…신인 김명관 활약... 2\n",
      "네이마르 PSG이적 후 가장 먼저 한 일 등번호 10번... 4\n",
      "극과 극...강원은 폭설 부산은 개나리 3\n",
      "영상 감격 또 감격...백두산 정상에 선 두 정상 6\n",
      "영상 베트남 총리 박항서 감독에 훈장…양국 국민 친... 4\n",
      "촛불 3년...사회불평등 해소 촉구 2\n",
      "차량털이범에 당한 전 MLB 거포 A.로드…피해액만 6억원... 4\n",
      "美제재에 베네수 프로야구 못 열릴라…與정치인 우리라도 뛴... 4\n",
      "법원 MBC정상화위 효력정지...사측 이의신청 2\n",
      "듀랜트·커리 55점 합작…골든스테이트 클리블랜드 원정서 ... 4\n",
      "정운찬 총재 병역 국민정서 반영 못해 죄송…미래협의회 ... 6\n",
      "물러가는 동장군....서울 한파주의보 해제 3\n",
      "대재앙 후 드리운 트라우마 그리고 치유...연극 안녕 후쿠시마 3\n",
      "與 질서있는 국정수습...野 탄핵연대로 응답 6\n",
      "하나은행 축구 금메달 기념 적금가입고객에 최대 연 2.5... 1\n",
      "전충렬 수석대표 남북 통일농구경기 7월 36일 사이 개... 6\n",
      "다둥이 아빠 호날두 아빠 된다는 것 형언할 수 없는... 4\n",
      "NBC해설위원 마르티노 내년 2월 미 축구협회 회장선거에... 4\n",
      "SK 로맥 인천상륙작전서 대포 두 방…문학서 뛰는 게 ... 2\n",
      "본점 폐쇄되면...…은행들 비상대응체계 가동 1\n",
      "38\n",
      "1075\n"
     ]
    }
   ],
   "source": [
    "num = 0\n",
    "for sentence, label in three_dot_in_sentence:\n",
    "    if label != 5:\n",
    "        num+=1\n",
    "        print(sentence, label)\n",
    "        \n",
    "print(num)\n",
    "print(len(three_dot_in_sentence))"
   ]
  },
  {
   "cell_type": "code",
   "execution_count": 4,
   "id": "2a26d023",
   "metadata": {},
   "outputs": [
    {
     "data": {
      "text/plain": [
       "<AxesSubplot:>"
      ]
     },
     "execution_count": 4,
     "metadata": {},
     "output_type": "execute_result"
    },
    {
     "data": {
      "image/png": "[encoded data removed]",
      "text/plain": [
       "<Figure size 432x288 with 1 Axes>"
      ]
     },
     "metadata": {
      "needs_background": "light"
     },
     "output_type": "display_data"
    }
   ],
   "source": [
    "# datas with label\n",
    "train[\"topic_idx\"].value_counts().plot(kind=\"bar\")\n"
   ]
  },
  {
   "cell_type": "code",
   "execution_count": 5,
   "id": "91753ac1",
   "metadata": {},
   "outputs": [
    {
     "data": {
      "text/plain": [
       "<AxesSubplot:>"
      ]
     },
     "execution_count": 5,
     "metadata": {},
     "output_type": "execute_result"
    },
    {
     "data": {
      "image/png": "[encoded data removed]",
      "text/plain": [
       "<Figure size 432x288 with 1 Axes>"
      ]
     },
     "metadata": {
      "needs_background": "light"
     },
     "output_type": "display_data"
    }
   ],
   "source": [
    "# string length\n",
    "train[\"title\"].str.len().hist()"
   ]
  },
  {
   "cell_type": "code",
   "execution_count": 6,
   "id": "cb0775fb",
   "metadata": {},
   "outputs": [
    {
     "data": {
      "image/png": "[encoded data removed]",
      "text/plain": [
       "<Figure size 432x288 with 1 Axes>"
      ]
     },
     "metadata": {
      "needs_background": "light"
     },
     "output_type": "display_data"
    }
   ],
   "source": [
    "def plot_word_number_histogram(text):\n",
    "    text.str.split().\\\n",
    "        map(lambda x: len(x)).\\\n",
    "        hist()\n",
    "\n",
    "plot_word_number_histogram(train['title'])\n",
    "plot_word_number_histogram(test['title'])"
   ]
  },
  {
   "cell_type": "code",
   "execution_count": 7,
   "id": "6f063cbb",
   "metadata": {},
   "outputs": [
    {
     "data": {
      "text/html": [
       "<div>\n",
       "<style scoped>\n",
       "    .dataframe tbody tr th:only-of-type {\n",
       "        vertical-align: middle;\n",
       "    }\n",
       "\n",
       "    .dataframe tbody tr th {\n",
       "        vertical-align: top;\n",
       "    }\n",
       "\n",
       "    .dataframe thead th {\n",
       "        text-align: right;\n",
       "    }\n",
       "</style>\n",
       "<table border=\"1\" class=\"dataframe\">\n",
       "  <thead>\n",
       "    <tr style=\"text-align: right;\">\n",
       "      <th></th>\n",
       "      <th>index</th>\n",
       "      <th>title</th>\n",
       "      <th>topic_idx</th>\n",
       "    </tr>\n",
       "  </thead>\n",
       "  <tbody>\n",
       "    <tr>\n",
       "      <th>0</th>\n",
       "      <td>0</td>\n",
       "      <td>인천→핀란드 항공기 결항…휴가철 여행객 분통</td>\n",
       "      <td>4</td>\n",
       "    </tr>\n",
       "    <tr>\n",
       "      <th>1</th>\n",
       "      <td>1</td>\n",
       "      <td>실리콘밸리 넘어서겠다…구글 15조원 들여 美전역 거점화</td>\n",
       "      <td>4</td>\n",
       "    </tr>\n",
       "    <tr>\n",
       "      <th>2</th>\n",
       "      <td>2</td>\n",
       "      <td>이란 외무 긴장완화 해결책은 미국이 경제전쟁 멈추는 것</td>\n",
       "      <td>4</td>\n",
       "    </tr>\n",
       "    <tr>\n",
       "      <th>3</th>\n",
       "      <td>3</td>\n",
       "      <td>NYT 클린턴 측근韓기업 특수관계 조명…공과 사 맞물려종합</td>\n",
       "      <td>4</td>\n",
       "    </tr>\n",
       "    <tr>\n",
       "      <th>4</th>\n",
       "      <td>4</td>\n",
       "      <td>시진핑 트럼프에 중미 무역협상 조속 타결 희망</td>\n",
       "      <td>4</td>\n",
       "    </tr>\n",
       "  </tbody>\n",
       "</table>\n",
       "</div>"
      ],
      "text/plain": [
       "   index                             title  topic_idx\n",
       "0      0          인천→핀란드 항공기 결항…휴가철 여행객 분통          4\n",
       "1      1    실리콘밸리 넘어서겠다…구글 15조원 들여 美전역 거점화          4\n",
       "2      2    이란 외무 긴장완화 해결책은 미국이 경제전쟁 멈추는 것          4\n",
       "3      3  NYT 클린턴 측근韓기업 특수관계 조명…공과 사 맞물려종합          4\n",
       "4      4         시진핑 트럼프에 중미 무역협상 조속 타결 희망          4"
      ]
     },
     "execution_count": 7,
     "metadata": {},
     "output_type": "execute_result"
    }
   ],
   "source": [
    "train.head()"
   ]
  },
  {
   "cell_type": "code",
   "execution_count": 8,
   "id": "bc071c4e",
   "metadata": {},
   "outputs": [
    {
     "data": {
      "text/html": [
       "<div>\n",
       "<style scoped>\n",
       "    .dataframe tbody tr th:only-of-type {\n",
       "        vertical-align: middle;\n",
       "    }\n",
       "\n",
       "    .dataframe tbody tr th {\n",
       "        vertical-align: top;\n",
       "    }\n",
       "\n",
       "    .dataframe thead th {\n",
       "        text-align: right;\n",
       "    }\n",
       "</style>\n",
       "<table border=\"1\" class=\"dataframe\">\n",
       "  <thead>\n",
       "    <tr style=\"text-align: right;\">\n",
       "      <th></th>\n",
       "      <th>index</th>\n",
       "      <th>title</th>\n",
       "    </tr>\n",
       "  </thead>\n",
       "  <tbody>\n",
       "    <tr>\n",
       "      <th>0</th>\n",
       "      <td>45654</td>\n",
       "      <td>유튜브 내달 2일까지 크리에이터 지원 공간 운영</td>\n",
       "    </tr>\n",
       "    <tr>\n",
       "      <th>1</th>\n",
       "      <td>45655</td>\n",
       "      <td>어버이날 맑다가 흐려져…남부지방 옅은 황사</td>\n",
       "    </tr>\n",
       "    <tr>\n",
       "      <th>2</th>\n",
       "      <td>45656</td>\n",
       "      <td>내년부터 국가RD 평가 때 논문건수는 반영 않는다</td>\n",
       "    </tr>\n",
       "    <tr>\n",
       "      <th>3</th>\n",
       "      <td>45657</td>\n",
       "      <td>김명자 신임 과총 회장 원로와 젊은 과학자 지혜 모을 것</td>\n",
       "    </tr>\n",
       "    <tr>\n",
       "      <th>4</th>\n",
       "      <td>45658</td>\n",
       "      <td>회색인간 작가 김동식 양심고백 등 새 소설집 2권 출간</td>\n",
       "    </tr>\n",
       "  </tbody>\n",
       "</table>\n",
       "</div>"
      ],
      "text/plain": [
       "   index                            title\n",
       "0  45654       유튜브 내달 2일까지 크리에이터 지원 공간 운영\n",
       "1  45655          어버이날 맑다가 흐려져…남부지방 옅은 황사\n",
       "2  45656      내년부터 국가RD 평가 때 논문건수는 반영 않는다\n",
       "3  45657  김명자 신임 과총 회장 원로와 젊은 과학자 지혜 모을 것\n",
       "4  45658   회색인간 작가 김동식 양심고백 등 새 소설집 2권 출간"
      ]
     },
     "execution_count": 8,
     "metadata": {},
     "output_type": "execute_result"
    }
   ],
   "source": [
    "test.head()"
   ]
  },
  {
   "cell_type": "code",
   "execution_count": 14,
   "id": "fd9bcdd9",
   "metadata": {},
   "outputs": [],
   "source": [
    "label_index_list = []\n",
    "for i in range(7):\n",
    "    label_index_list.append(train[train['topic_idx'] == i])"
   ]
  },
  {
   "cell_type": "code",
   "execution_count": 25,
   "id": "6a85c861",
   "metadata": {},
   "outputs": [
    {
     "data": {
      "text/plain": [
       "<AxesSubplot:>"
      ]
     },
     "execution_count": 25,
     "metadata": {},
     "output_type": "execute_result"
    },
    {
     "data": {
      "image/png": "[encoded data removed]",
      "text/plain": [
       "<Figure size 432x288 with 1 Axes>"
      ]
     },
     "metadata": {
      "needs_background": "light"
     },
     "output_type": "display_data"
    }
   ],
   "source": [
    "label_index_list[0]['title'].str.len().hist()"
   ]
  },
  {
   "cell_type": "code",
   "execution_count": 27,
   "id": "e7bdc19a",
   "metadata": {},
   "outputs": [
    {
     "data": {
      "text/plain": [
       "<AxesSubplot:>"
      ]
     },
     "execution_count": 27,
     "metadata": {},
     "output_type": "execute_result"
    },
    {
     "data": {
      "image/png": "[encoded data removed]",
      "text/plain": [
       "<Figure size 432x288 with 1 Axes>"
      ]
     },
     "metadata": {
      "needs_background": "light"
     },
     "output_type": "display_data"
    }
   ],
   "source": [
    "label_index_list[1]['title'].str.len().hist()"
   ]
  },
  {
   "cell_type": "code",
   "execution_count": 28,
   "id": "90ab1441",
   "metadata": {},
   "outputs": [
    {
     "data": {
      "text/plain": [
       "<AxesSubplot:>"
      ]
     },
     "execution_count": 28,
     "metadata": {},
     "output_type": "execute_result"
    },
    {
     "data": {
      "image/png": "[encoded data removed]",
      "text/plain": [
       "<Figure size 432x288 with 1 Axes>"
      ]
     },
     "metadata": {
      "needs_background": "light"
     },
     "output_type": "display_data"
    }
   ],
   "source": [
    "label_index_list[2]['title'].str.len().hist()"
   ]
  },
  {
   "cell_type": "code",
   "execution_count": 29,
   "id": "b85c3138",
   "metadata": {},
   "outputs": [
    {
     "data": {
      "text/plain": [
       "<AxesSubplot:>"
      ]
     },
     "execution_count": 29,
     "metadata": {},
     "output_type": "execute_result"
    },
    {
     "data": {
      "image/png": "[encoded data removed]",
      "text/plain": [
       "<Figure size 432x288 with 1 Axes>"
      ]
     },
     "metadata": {
      "needs_background": "light"
     },
     "output_type": "display_data"
    }
   ],
   "source": [
    "label_index_list[3]['title'].str.len().hist()"
   ]
  },
  {
   "cell_type": "code",
   "execution_count": 30,
   "id": "fc147381",
   "metadata": {},
   "outputs": [
    {
     "data": {
      "text/plain": [
       "<AxesSubplot:>"
      ]
     },
     "execution_count": 30,
     "metadata": {},
     "output_type": "execute_result"
    },
    {
     "data": {
      "image/png": "[encoded data removed]",
      "text/plain": [
       "<Figure size 432x288 with 1 Axes>"
      ]
     },
     "metadata": {
      "needs_background": "light"
     },
     "output_type": "display_data"
    }
   ],
   "source": [
    "label_index_list[4]['title'].str.len().hist()"
   ]
  },
  {
   "cell_type": "code",
   "execution_count": 31,
   "id": "0da2b179",
   "metadata": {},
   "outputs": [
    {
     "data": {
      "text/plain": [
       "<AxesSubplot:>"
      ]
     },
     "execution_count": 31,
     "metadata": {},
     "output_type": "execute_result"
    },
    {
     "data": {
      "image/png": "[encoded data removed]",
      "text/plain": [
       "<Figure size 432x288 with 1 Axes>"
      ]
     },
     "metadata": {
      "needs_background": "light"
     },
     "output_type": "display_data"
    }
   ],
   "source": [
    "label_index_list[5]['title'].str.len().hist()"
   ]
  },
  {
   "cell_type": "code",
   "execution_count": 32,
   "id": "11aea02d",
   "metadata": {},
   "outputs": [
    {
     "data": {
      "text/plain": [
       "<AxesSubplot:>"
      ]
     },
     "execution_count": 32,
     "metadata": {},
     "output_type": "execute_result"
    },
    {
     "data": {
      "image/png": "[encoded data removed]",
      "text/plain": [
       "<Figure size 432x288 with 1 Axes>"
      ]
     },
     "metadata": {
      "needs_background": "light"
     },
     "output_type": "display_data"
    }
   ],
   "source": [
    "label_index_list[6]['title'].str.len().hist()"
   ]
  },
  {
   "cell_type": "code",
   "execution_count": 26,
   "id": "a408a2b8",
   "metadata": {},
   "outputs": [
    {
     "data": {
      "image/png": "[encoded data removed]",
      "text/plain": [
       "<Figure size 432x288 with 1 Axes>"
      ]
     },
     "metadata": {
      "needs_background": "light"
     },
     "output_type": "display_data"
    }
   ],
   "source": [
    "for i in range(7):\n",
    "    label_index_list[i]['title'].str.len().hist()"
   ]
  },
  {
   "cell_type": "code",
   "execution_count": null,
   "id": "a7880104",
   "metadata": {},
   "outputs": [],
   "source": [
    "label_index_list[0]['title'].str.len().hist()"
   ]
  },
  {
   "cell_type": "code",
   "execution_count": null,
   "id": "b13ff4d1",
   "metadata": {},
   "outputs": [],
   "source": [
    "from konlpy.tag import Kkma  \n",
    "kkma=Kkma()  \n",
    "print(kkma.morphs(\"열심히 코딩한 당신, 연휴에는 여행을 가봐요\"))"
   ]
  },
  {
   "cell_type": "code",
   "execution_count": 11,
   "id": "6c2553d6",
   "metadata": {},
   "outputs": [
    {
     "ename": "Exception",
     "evalue": "Install MeCab in order to use it: http://konlpy.org/en/latest/install/",
     "output_type": "error",
     "traceback": [
      "\u001b[1;31m---------------------------------------------------------------------------\u001b[0m",
      "\u001b[1;31mNameError\u001b[0m                                 Traceback (most recent call last)",
      "\u001b[1;32md:\\workspace\\dacon_news_topic_clasiification\\venv\\lib\\site-packages\\konlpy\\tag\\_mecab.py\u001b[0m in \u001b[0;36m__init__\u001b[1;34m(self, dicpath)\u001b[0m\n\u001b[0;32m    107\u001b[0m         \u001b[1;32mtry\u001b[0m\u001b[1;33m:\u001b[0m\u001b[1;33m\u001b[0m\u001b[1;33m\u001b[0m\u001b[0m\n\u001b[1;32m--> 108\u001b[1;33m             \u001b[0mself\u001b[0m\u001b[1;33m.\u001b[0m\u001b[0mtagger\u001b[0m \u001b[1;33m=\u001b[0m \u001b[0mTagger\u001b[0m\u001b[1;33m(\u001b[0m\u001b[1;34m'-d %s'\u001b[0m \u001b[1;33m%\u001b[0m \u001b[0mdicpath\u001b[0m\u001b[1;33m)\u001b[0m\u001b[1;33m\u001b[0m\u001b[1;33m\u001b[0m\u001b[0m\n\u001b[0m\u001b[0;32m    109\u001b[0m             \u001b[0mself\u001b[0m\u001b[1;33m.\u001b[0m\u001b[0mtagset\u001b[0m \u001b[1;33m=\u001b[0m \u001b[0mutils\u001b[0m\u001b[1;33m.\u001b[0m\u001b[0mread_json\u001b[0m\u001b[1;33m(\u001b[0m\u001b[1;34m'%s/data/tagset/mecab.json'\u001b[0m \u001b[1;33m%\u001b[0m \u001b[0mutils\u001b[0m\u001b[1;33m.\u001b[0m\u001b[0minstallpath\u001b[0m\u001b[1;33m)\u001b[0m\u001b[1;33m\u001b[0m\u001b[1;33m\u001b[0m\u001b[0m\n",
      "\u001b[1;31mNameError\u001b[0m: name 'Tagger' is not defined",
      "\nDuring handling of the above exception, another exception occurred:\n",
      "\u001b[1;31mException\u001b[0m                                 Traceback (most recent call last)",
      "\u001b[1;32m~\\AppData\\Local\\Temp/ipykernel_22168/2501491370.py\u001b[0m in \u001b[0;36m<module>\u001b[1;34m\u001b[0m\n\u001b[0;32m      1\u001b[0m \u001b[1;32mfrom\u001b[0m \u001b[0mkonlpy\u001b[0m\u001b[1;33m.\u001b[0m\u001b[0mtag\u001b[0m \u001b[1;32mimport\u001b[0m \u001b[0mMecab\u001b[0m\u001b[1;33m\u001b[0m\u001b[1;33m\u001b[0m\u001b[0m\n\u001b[1;32m----> 2\u001b[1;33m \u001b[0mtokenizer\u001b[0m \u001b[1;33m=\u001b[0m \u001b[0mMecab\u001b[0m\u001b[1;33m(\u001b[0m\u001b[1;33m)\u001b[0m\u001b[1;33m\u001b[0m\u001b[1;33m\u001b[0m\u001b[0m\n\u001b[0m\u001b[0;32m      3\u001b[0m \u001b[0mprint\u001b[0m\u001b[1;33m(\u001b[0m\u001b[0mtokenizer\u001b[0m\u001b[1;33m.\u001b[0m\u001b[0mmorphs\u001b[0m\u001b[1;33m(\u001b[0m\u001b[1;34m\"열심히 코딩한 당신, 연휴에는 여행을 가봐요\"\u001b[0m\u001b[1;33m)\u001b[0m\u001b[1;33m)\u001b[0m\u001b[1;33m\u001b[0m\u001b[1;33m\u001b[0m\u001b[0m\n",
      "\u001b[1;32md:\\workspace\\dacon_news_topic_clasiification\\venv\\lib\\site-packages\\konlpy\\tag\\_mecab.py\u001b[0m in \u001b[0;36m__init__\u001b[1;34m(self, dicpath)\u001b[0m\n\u001b[0;32m    111\u001b[0m             \u001b[1;32mraise\u001b[0m \u001b[0mException\u001b[0m\u001b[1;33m(\u001b[0m\u001b[1;34m'The MeCab dictionary does not exist at \"%s\". Is the dictionary correctly installed?\\nYou can also try entering the dictionary path when initializing the Mecab class: \"Mecab(\\'/some/dic/path\\')\"'\u001b[0m \u001b[1;33m%\u001b[0m \u001b[0mdicpath\u001b[0m\u001b[1;33m)\u001b[0m\u001b[1;33m\u001b[0m\u001b[1;33m\u001b[0m\u001b[0m\n\u001b[0;32m    112\u001b[0m         \u001b[1;32mexcept\u001b[0m \u001b[0mNameError\u001b[0m\u001b[1;33m:\u001b[0m\u001b[1;33m\u001b[0m\u001b[1;33m\u001b[0m\u001b[0m\n\u001b[1;32m--> 113\u001b[1;33m             \u001b[1;32mraise\u001b[0m \u001b[0mException\u001b[0m\u001b[1;33m(\u001b[0m\u001b[1;34m'Install MeCab in order to use it: http://konlpy.org/en/latest/install/'\u001b[0m\u001b[1;33m)\u001b[0m\u001b[1;33m\u001b[0m\u001b[1;33m\u001b[0m\u001b[0m\n\u001b[0m\u001b[0;32m    114\u001b[0m \u001b[1;33m\u001b[0m\u001b[0m\n\u001b[0;32m    115\u001b[0m     \u001b[1;32mdef\u001b[0m \u001b[0m__setstate__\u001b[0m\u001b[1;33m(\u001b[0m\u001b[0mself\u001b[0m\u001b[1;33m,\u001b[0m \u001b[0mstate\u001b[0m\u001b[1;33m)\u001b[0m\u001b[1;33m:\u001b[0m\u001b[1;33m\u001b[0m\u001b[1;33m\u001b[0m\u001b[0m\n",
      "\u001b[1;31mException\u001b[0m: Install MeCab in order to use it: http://konlpy.org/en/latest/install/"
     ]
    }
   ],
   "source": [
    "from konlpy.tag import Mecab  \n",
    "tokenizer = Mecab()\n",
    "print(tokenizer.morphs(\"열심히 코딩한 당신, 연휴에는 여행을 가봐요\"))"
   ]
  },
  {
   "cell_type": "code",
   "execution_count": null,
   "id": "0144b41c",
   "metadata": {},
   "outputs": [],
   "source": [
    "train[\"tokenized\"] = [tokenizer.morphs(sentence) for sentence in train[\"title\"]]"
   ]
  },
  {
   "cell_type": "code",
   "execution_count": null,
   "id": "719fce97",
   "metadata": {},
   "outputs": [],
   "source": [
    "train.head()"
   ]
  },
  {
   "cell_type": "code",
   "execution_count": null,
   "id": "7a51701c",
   "metadata": {},
   "outputs": [],
   "source": []
  },
  {
   "cell_type": "code",
   "execution_count": null,
   "id": "017b1708",
   "metadata": {
    "scrolled": false
   },
   "outputs": [],
   "source": [
    "fig = plt.figure(figsize=(20,10)) # rows*cols 행렬의 i번째 subplot 생성\n",
    "plt.legend(prop=fprop)\n",
    "rows = 3\n",
    "cols = 3\n",
    "i = 1\n",
    "\n",
    "from collections import defaultdict\n",
    "\n",
    "def plot_top_stopwords_barchart2(tokenized_list):\n",
    "    dic = defaultdict(int)\n",
    "    for tokenized in tokenized_list:\n",
    "        for tok in tokenized:\n",
    "            if len(tok) == 1:\n",
    "                continue\n",
    "            dic[tok] += 1\n",
    "\n",
    "    top = sorted(dic.items(), key=lambda x:x[1],reverse=True)[:30]\n",
    "\n",
    "    x, y = zip(*top)\n",
    "    return x, y\n",
    "\n",
    "for i in range(7):\n",
    "    x,y = plot_top_stopwords_barchart2(train[train['topic_idx']==i]['tokenized'])\n",
    "    ax = fig.add_subplot(rows, cols, i+1)\n",
    "    ax.set_title(i)\n",
    "    ax.bar(x,y)\n",
    "    print(x)\n",
    "    print(y)"
   ]
  },
  {
   "cell_type": "code",
   "execution_count": null,
   "id": "04d66763",
   "metadata": {
    "scrolled": false
   },
   "outputs": [],
   "source": [
    "for i in range(7):\n",
    "    x,y = plot_top_stopwords_barchart2(train[train['topic_idx']==i]['tokenized'])\n",
    "    print(x)\n",
    "    print(y)"
   ]
  },
  {
   "cell_type": "code",
   "execution_count": null,
   "id": "dc7ffbc4",
   "metadata": {},
   "outputs": [],
   "source": [
    "x,y"
   ]
  },
  {
   "cell_type": "code",
   "execution_count": null,
   "id": "f82edaac",
   "metadata": {},
   "outputs": [],
   "source": []
  }
 ],
 "metadata": {
  "kernelspec": {
   "display_name": "Python 3 (ipykernel)",
   "language": "python",
   "name": "python3"
  },
  "language_info": {
   "codemirror_mode": {
    "name": "ipython",
    "version": 3
   },
   "file_extension": ".py",
   "mimetype": "text/x-python",
   "name": "python",
   "nbconvert_exporter": "python",
   "pygments_lexer": "ipython3",
   "version": "3.9.6"
  }
 },
 "nbformat": 4,
 "nbformat_minor": 5
}
