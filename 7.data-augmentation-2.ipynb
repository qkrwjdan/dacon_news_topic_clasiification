{
 "cells": [
  {
   "cell_type": "markdown",
   "id": "8e865473",
   "metadata": {},
   "source": [
    "# Data Augmentation using KoEDA\n",
    "\n",
    "\n",
    "https://github.com/toriving/KoEDA  \n",
    "이 라이브러리를 사용하여 한국어 텍스트 데이터를 쉽게 Augmentation할 수 있습니다. "
   ]
  },
  {
   "cell_type": "code",
   "execution_count": 1,
   "id": "0c162c5e",
   "metadata": {},
   "outputs": [
    {
     "name": "stdout",
     "output_type": "stream",
     "text": [
      "Collecting koeda\n",
      "  Downloading koeda-0.0.3-py3-none-any.whl (564 kB)\n",
      "Collecting numpy==1.19.4\n",
      "  Downloading numpy-1.19.4-cp39-cp39-win_amd64.whl (13.0 MB)\n",
      "Requirement already satisfied: konlpy==0.5.2 in d:\\workspace\\dacon_news_topic_clasiification\\venv\\lib\\site-packages (from koeda) (0.5.2)\n",
      "Requirement already satisfied: JPype1>=0.7.0 in d:\\workspace\\dacon_news_topic_clasiification\\venv\\lib\\site-packages (from konlpy==0.5.2->koeda) (1.3.0)\n",
      "Requirement already satisfied: beautifulsoup4==4.6.0 in d:\\workspace\\dacon_news_topic_clasiification\\venv\\lib\\site-packages (from konlpy==0.5.2->koeda) (4.6.0)\n",
      "Requirement already satisfied: colorama in d:\\workspace\\dacon_news_topic_clasiification\\venv\\lib\\site-packages (from konlpy==0.5.2->koeda) (0.4.4)\n",
      "Requirement already satisfied: tweepy>=3.7.0 in d:\\workspace\\dacon_news_topic_clasiification\\venv\\lib\\site-packages (from konlpy==0.5.2->koeda) (3.10.0)\n",
      "Requirement already satisfied: lxml>=4.1.0 in d:\\workspace\\dacon_news_topic_clasiification\\venv\\lib\\site-packages (from konlpy==0.5.2->koeda) (4.6.3)\n",
      "Requirement already satisfied: six>=1.10.0 in d:\\workspace\\dacon_news_topic_clasiification\\venv\\lib\\site-packages (from tweepy>=3.7.0->konlpy==0.5.2->koeda) (1.15.0)\n",
      "Requirement already satisfied: requests-oauthlib>=0.7.0 in d:\\workspace\\dacon_news_topic_clasiification\\venv\\lib\\site-packages (from tweepy>=3.7.0->konlpy==0.5.2->koeda) (1.3.0)\n",
      "Requirement already satisfied: requests[socks]>=2.11.1 in d:\\workspace\\dacon_news_topic_clasiification\\venv\\lib\\site-packages (from tweepy>=3.7.0->konlpy==0.5.2->koeda) (2.26.0)\n",
      "Requirement already satisfied: oauthlib>=3.0.0 in d:\\workspace\\dacon_news_topic_clasiification\\venv\\lib\\site-packages (from requests-oauthlib>=0.7.0->tweepy>=3.7.0->konlpy==0.5.2->koeda) (3.1.1)\n",
      "Requirement already satisfied: idna<4,>=2.5 in d:\\workspace\\dacon_news_topic_clasiification\\venv\\lib\\site-packages (from requests[socks]>=2.11.1->tweepy>=3.7.0->konlpy==0.5.2->koeda) (3.2)\n",
      "Requirement already satisfied: charset-normalizer~=2.0.0 in d:\\workspace\\dacon_news_topic_clasiification\\venv\\lib\\site-packages (from requests[socks]>=2.11.1->tweepy>=3.7.0->konlpy==0.5.2->koeda) (2.0.3)\n",
      "Requirement already satisfied: urllib3<1.27,>=1.21.1 in d:\\workspace\\dacon_news_topic_clasiification\\venv\\lib\\site-packages (from requests[socks]>=2.11.1->tweepy>=3.7.0->konlpy==0.5.2->koeda) (1.26.6)\n",
      "Requirement already satisfied: certifi>=2017.4.17 in d:\\workspace\\dacon_news_topic_clasiification\\venv\\lib\\site-packages (from requests[socks]>=2.11.1->tweepy>=3.7.0->konlpy==0.5.2->koeda) (2021.5.30)\n",
      "Requirement already satisfied: PySocks!=1.5.7,>=1.5.6 in d:\\workspace\\dacon_news_topic_clasiification\\venv\\lib\\site-packages (from requests[socks]>=2.11.1->tweepy>=3.7.0->konlpy==0.5.2->koeda) (1.7.1)\n",
      "Installing collected packages: numpy, koeda\n",
      "  Attempting uninstall: numpy\n",
      "    Found existing installation: numpy 1.19.5\n",
      "    Uninstalling numpy-1.19.5:\n",
      "      Successfully uninstalled numpy-1.19.5\n"
     ]
    },
    {
     "name": "stderr",
     "output_type": "stream",
     "text": [
      "ERROR: Could not install packages due to an OSError: [WinError 5] 액세스가 거부되었습니다: 'D:\\\\Workspace\\\\dacon_news_topic_clasiification\\\\venv\\\\Lib\\\\site-packages\\\\~umpy\\\\.libs\\\\libopenblas.WCDJNK7YVMPZQ2ME2ZZHJJRJ3JIKNDB7.gfortran-win_amd64.dll'\n",
      "Check the permissions.\n",
      "\n",
      "WARNING: You are using pip version 21.1.3; however, version 21.2.4 is available.\n",
      "You should consider upgrading via the 'd:\\workspace\\dacon_news_topic_clasiification\\venv\\scripts\\python.exe -m pip install --upgrade pip' command.\n"
     ]
    }
   ],
   "source": [
    "!pip install koeda"
   ]
  },
  {
   "cell_type": "code",
   "execution_count": 5,
   "id": "777b6788",
   "metadata": {},
   "outputs": [
    {
     "ename": "ModuleNotFoundError",
     "evalue": "No module named 'koeda'",
     "output_type": "error",
     "traceback": [
      "\u001b[1;31m---------------------------------------------------------------------------\u001b[0m",
      "\u001b[1;31mModuleNotFoundError\u001b[0m                       Traceback (most recent call last)",
      "\u001b[1;32m~\\AppData\\Local\\Temp/ipykernel_16308/2148149361.py\u001b[0m in \u001b[0;36m<module>\u001b[1;34m\u001b[0m\n\u001b[0;32m      1\u001b[0m \u001b[1;32mimport\u001b[0m \u001b[0mpandas\u001b[0m \u001b[1;32mas\u001b[0m \u001b[0mpd\u001b[0m\u001b[1;33m\u001b[0m\u001b[1;33m\u001b[0m\u001b[0m\n\u001b[0;32m      2\u001b[0m \u001b[1;32mimport\u001b[0m \u001b[0mnumpy\u001b[0m \u001b[1;32mas\u001b[0m \u001b[0mnp\u001b[0m\u001b[1;33m\u001b[0m\u001b[1;33m\u001b[0m\u001b[0m\n\u001b[1;32m----> 3\u001b[1;33m \u001b[1;32mfrom\u001b[0m \u001b[0mkoeda\u001b[0m \u001b[1;32mimport\u001b[0m \u001b[0mEasyDataAugmentation\u001b[0m\u001b[1;33m\u001b[0m\u001b[1;33m\u001b[0m\u001b[0m\n\u001b[0m",
      "\u001b[1;31mModuleNotFoundError\u001b[0m: No module named 'koeda'"
     ]
    }
   ],
   "source": [
    "import pandas as pd\n",
    "import numpy as np\n",
    "from koeda import EasyDataAugmentation"
   ]
  },
  {
   "cell_type": "code",
   "execution_count": 3,
   "id": "42ed41ce",
   "metadata": {},
   "outputs": [
    {
     "ename": "ModuleNotFoundError",
     "evalue": "No module named 'koeda'",
     "output_type": "error",
     "traceback": [
      "\u001b[1;31m---------------------------------------------------------------------------\u001b[0m",
      "\u001b[1;31mModuleNotFoundError\u001b[0m                       Traceback (most recent call last)",
      "\u001b[1;32m~\\AppData\\Local\\Temp/ipykernel_16308/3323977232.py\u001b[0m in \u001b[0;36m<module>\u001b[1;34m\u001b[0m\n\u001b[1;32m----> 1\u001b[1;33m \u001b[1;32mfrom\u001b[0m \u001b[0mkoeda\u001b[0m \u001b[1;32mimport\u001b[0m \u001b[0mEasyDataAugmentation\u001b[0m\u001b[1;33m\u001b[0m\u001b[1;33m\u001b[0m\u001b[0m\n\u001b[0m",
      "\u001b[1;31mModuleNotFoundError\u001b[0m: No module named 'koeda'"
     ]
    }
   ],
   "source": [
    "EDA = EasyDataAugmentation(\n",
    "    morpheme_analyzer=None, alpha_sr=0.2, alpha_ri=0.2, alpha_rs=0.2, prob_rd=0.2\n",
    ")"
   ]
  },
  {
   "cell_type": "code",
   "execution_count": 6,
   "id": "d05a46a2",
   "metadata": {},
   "outputs": [],
   "source": [
    "dataset = pd.read_csv(\"data/train_data.csv\")"
   ]
  },
  {
   "cell_type": "code",
   "execution_count": 7,
   "id": "00437043",
   "metadata": {},
   "outputs": [],
   "source": [
    "def augment_data(dataset_df,EDA,repetition_num):\n",
    "\n",
    "    augmented_list = []\n",
    "    label_list = []\n",
    "\n",
    "    for text, label in zip(dataset_df[\"title\"],dataset_df[\"topic_idx\"]):\n",
    "        augmenteds = EDA(data=text, p=None, repetition=repetition_num)\n",
    "\n",
    "        for aug in augmenteds:\n",
    "            augmented_list.append(aug)\n",
    "            label_list.append(label)\n",
    "\n",
    "    new_df = pd.DataFrame({\n",
    "        'title' : augmented_list,\n",
    "        'topic_idx' : label_list\n",
    "    })\n",
    "\n",
    "    return new_df"
   ]
  },
  {
   "cell_type": "code",
   "execution_count": null,
   "id": "a396ebd8",
   "metadata": {},
   "outputs": [],
   "source": [
    "aug_df = augment_data(dataset,EDA,4)"
   ]
  },
  {
   "cell_type": "code",
   "execution_count": null,
   "id": "2f8f343f",
   "metadata": {},
   "outputs": [],
   "source": [
    "print(aug_df)"
   ]
  }
 ],
 "metadata": {
  "kernelspec": {
   "display_name": "Python 3 (ipykernel)",
   "language": "python",
   "name": "python3"
  },
  "language_info": {
   "codemirror_mode": {
    "name": "ipython",
    "version": 3
   },
   "file_extension": ".py",
   "mimetype": "text/x-python",
   "name": "python",
   "nbconvert_exporter": "python",
   "pygments_lexer": "ipython3",
   "version": "3.9.6"
  }
 },
 "nbformat": 4,
 "nbformat_minor": 5
}
